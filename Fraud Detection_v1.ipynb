{
 "cells": [
  {
   "cell_type": "markdown",
   "id": "confident-liberal",
   "metadata": {},
   "source": [
    "# **Fraud Detection on Credit Card Data**\n",
    "\n",
    "*by Milara*\n",
    "\n",
    "*September 2021*\n",
    "\n",
    "**Introduction**:\n",
    "- Machine Learning models are very useful for businesses in many industries. Nevertheless, to make a model be valuable for a company it must be presentend in terms that anyone in the company can easly understand. Rather than presenting a model in terms of a metric (Accuracy, F1, ROC-AUC) it is better to present it in terms of **monetary costs and/or benefits**. Unfortunately, many books focus only on the model metrics and not in the business metrics, however there a few books and sites providing relevant model-business techniques. This kernel shows an approach of how to deal with this problem.\n",
    "- Furthermore, in real world scenarios a vast mayority of problems have to deal with **imbalanced datasets** as well. An imbalanced datset is when the amount of instances of the target variable, in this case the frauds, has higher number of the negative than the positive class. Many of the examples in the books are focused on how to train a model with balanced datasets and only mention some ideas to deal with imbalanced datasets, thus it is necessary to dig more to find how to deal with this problem. This kernel show some of the techiques to tackle this kind of issues.\n",
    "- Link to the dataset used: https://www.kaggle.com/mlg-ulb/creditcardfraud\n",
    "- This notebook is based on the notebook of Robin Teuwens with additions such as feature selection, hyperparameters tunning, learning and scalability curves and Cost/Profit curves[1].\n",
    "\n",
    "**Objectives**:\n",
    "  + To find the model that generates the **lowest cost to detect frauds**\n",
    "  + To show how to **deal with imbalanced datasets**\n",
    "\n",
    "**Content:**\n",
    "- [Problem Understanding](#Problem-Understanding)\n",
    "- [Data Understanding](#Data-Understanding)\n",
    "\t- Uni-variate analysis\n",
    "\t- Data Imbalanced\n",
    "- [Data Preparation](#Data-Preparation)\n",
    "\t- Scaling data\n",
    "\t- Data Split\n",
    "- [Cost Approach](#Cost-Approach)\n",
    "\t- Problem Assumptions\n",
    "\t- Marginal Cost\n",
    "\t- Cost of doing nothing\n",
    "\t- Cost of checking all transactions\n",
    "- [Modeling](#Modeling)\n",
    "\t- Baseline model\n",
    "\t- Logistic Regression \n",
    "\t- XGBoost \n",
    "- [Dealing with Imbalanced Datasets](#Dealing-with-Imbalanced-Datasets)\n",
    "\t- Resampling data\n",
    "\t- Testing SMOTE on models\n",
    "- [Improving the Model](#Improving-the-Model)\n",
    "\t- Feature Selection\n",
    "\t- Hyperparameter tunning\n",
    "- [Understanding the Performance of the Models](#Understanding-the-Performance-of-the-Models)\n",
    "\t- Fitting Curves\n",
    "\t- Learning and Scalability Curves\n",
    "\t- Missclassification cost per threshold\n",
    "\t- Cost/Profit Curves\n",
    "    - Cost curves for all models\n",
    "- [Feature Importance](#Feature-Importance)\n",
    "- [Conclusion](#Conclusion.)\n",
    "- [To Try](#To-Try)\n",
    "- [References](#References.)\n"
   ]
  },
  {
   "cell_type": "markdown",
   "id": "operational-viewer",
   "metadata": {},
   "source": [
    "## **Problem Understanding**\n",
    "\n",
    "- The data was obtained from Kaggle \"Credit Card Fraud Detection\" and provided by Machine Learning Group ULB. The data contains anonymized credit card transactions labaled as fradulent or genuine. The transactions were made by credit cards in September 2013 by European cardholders. **The data was retrieved from two day transactions, where only 492 were fraud out of 284,807.**\n",
    "- The goal is to generate a model based on supervised learning that can **classify correctly the non-fraud an fraud transactions**.\n",
    "- Depending on the problem the model has to be generated with the goal to minimize one or both errors. This problem considers both errors (to identify a non-fraud when it is and to identify a fraud when it is not). \n",
    "    - What will happen if the company does not identify frauds? they will have to reimburse the money and will lose reputation. \n",
    "    - What will happen if the company identify frauds when they are not? they will not have to reimburse the money, but for sure it will be a problem for their clients if they block their credit cards. \n",
    "    - This kernel will not consider the reputational costs, or if the company lose customers  due to model malfunction. \n",
    "- For the sake of simplicity two models will be used to make this task. **The models are Logistic Regression and XGBoost**. The first model is selected because it is simple to train and to tune. On the other hand, the second model is selected because it is known that can provide pretty good results but it is complex, it requires more resources to train, more hyperparameter fine-tunning and it is not easy interpretable. \n",
    "    "
   ]
  },
  {
   "cell_type": "markdown",
   "id": "remarkable-champion",
   "metadata": {},
   "source": [
    "## **Data Understanding**"
   ]
  },
  {
   "cell_type": "code",
   "execution_count": 1,
   "id": "every-campaign",
   "metadata": {},
   "outputs": [
    {
     "data": {
      "text/plain": [
       "Index(['Time', 'V1', 'V2', 'V3', 'V4', 'V5', 'V6', 'V7', 'V8', 'V9', 'V10',\n",
       "       'V11', 'V12', 'V13', 'V14', 'V15', 'V16', 'V17', 'V18', 'V19', 'V20',\n",
       "       'V21', 'V22', 'V23', 'V24', 'V25', 'V26', 'V27', 'V28', 'Amount',\n",
       "       'Class'],\n",
       "      dtype='object')"
      ]
     },
     "execution_count": 1,
     "metadata": {},
     "output_type": "execute_result"
    }
   ],
   "source": [
    "import pandas as pd\n",
    "\n",
    "# read in data\n",
    "df = pd.read_csv(\"C:/Users/Milara/Desktop/Practice_Jupyter/creditcard.csv\") \n",
    "df.columns"
   ]
  },
  {
   "cell_type": "markdown",
   "id": "rotary-singapore",
   "metadata": {},
   "source": [
    "- The dataset has 30 explanatory variables and 1 target variable (Class)\n",
    "- Two variables have an understandable name, Time and Amount.\n",
    "- The variables V1-V28 were transformed with PCA by the Machine Learning Group to anonymize the information about the transactions."
   ]
  },
  {
   "cell_type": "markdown",
   "id": "important-disabled",
   "metadata": {},
   "source": [
    "### Uni-variate analysis"
   ]
  },
  {
   "cell_type": "code",
   "execution_count": 2,
   "id": "subtle-sixth",
   "metadata": {},
   "outputs": [
    {
     "data": {
      "text/html": [
       "<div>\n",
       "<style scoped>\n",
       "    .dataframe tbody tr th:only-of-type {\n",
       "        vertical-align: middle;\n",
       "    }\n",
       "\n",
       "    .dataframe tbody tr th {\n",
       "        vertical-align: top;\n",
       "    }\n",
       "\n",
       "    .dataframe thead th {\n",
       "        text-align: right;\n",
       "    }\n",
       "</style>\n",
       "<table border=\"1\" class=\"dataframe\">\n",
       "  <thead>\n",
       "    <tr style=\"text-align: right;\">\n",
       "      <th></th>\n",
       "      <th>Time</th>\n",
       "      <th>V1</th>\n",
       "      <th>V2</th>\n",
       "      <th>V3</th>\n",
       "      <th>V4</th>\n",
       "      <th>V5</th>\n",
       "      <th>V6</th>\n",
       "      <th>V7</th>\n",
       "      <th>V8</th>\n",
       "      <th>V9</th>\n",
       "      <th>...</th>\n",
       "      <th>V21</th>\n",
       "      <th>V22</th>\n",
       "      <th>V23</th>\n",
       "      <th>V24</th>\n",
       "      <th>V25</th>\n",
       "      <th>V26</th>\n",
       "      <th>V27</th>\n",
       "      <th>V28</th>\n",
       "      <th>Amount</th>\n",
       "      <th>Class</th>\n",
       "    </tr>\n",
       "  </thead>\n",
       "  <tbody>\n",
       "    <tr>\n",
       "      <th>count</th>\n",
       "      <td>284807.000000</td>\n",
       "      <td>2.848070e+05</td>\n",
       "      <td>2.848070e+05</td>\n",
       "      <td>2.848070e+05</td>\n",
       "      <td>2.848070e+05</td>\n",
       "      <td>2.848070e+05</td>\n",
       "      <td>2.848070e+05</td>\n",
       "      <td>2.848070e+05</td>\n",
       "      <td>2.848070e+05</td>\n",
       "      <td>2.848070e+05</td>\n",
       "      <td>...</td>\n",
       "      <td>2.848070e+05</td>\n",
       "      <td>2.848070e+05</td>\n",
       "      <td>2.848070e+05</td>\n",
       "      <td>2.848070e+05</td>\n",
       "      <td>2.848070e+05</td>\n",
       "      <td>2.848070e+05</td>\n",
       "      <td>2.848070e+05</td>\n",
       "      <td>2.848070e+05</td>\n",
       "      <td>284807.000000</td>\n",
       "      <td>284807.000000</td>\n",
       "    </tr>\n",
       "    <tr>\n",
       "      <th>mean</th>\n",
       "      <td>94813.859575</td>\n",
       "      <td>1.168375e-15</td>\n",
       "      <td>3.416908e-16</td>\n",
       "      <td>-1.379537e-15</td>\n",
       "      <td>2.074095e-15</td>\n",
       "      <td>9.604066e-16</td>\n",
       "      <td>1.487313e-15</td>\n",
       "      <td>-5.556467e-16</td>\n",
       "      <td>1.213481e-16</td>\n",
       "      <td>-2.406331e-15</td>\n",
       "      <td>...</td>\n",
       "      <td>1.654067e-16</td>\n",
       "      <td>-3.568593e-16</td>\n",
       "      <td>2.578648e-16</td>\n",
       "      <td>4.473266e-15</td>\n",
       "      <td>5.340915e-16</td>\n",
       "      <td>1.683437e-15</td>\n",
       "      <td>-3.660091e-16</td>\n",
       "      <td>-1.227390e-16</td>\n",
       "      <td>88.349619</td>\n",
       "      <td>0.001727</td>\n",
       "    </tr>\n",
       "    <tr>\n",
       "      <th>std</th>\n",
       "      <td>47488.145955</td>\n",
       "      <td>1.958696e+00</td>\n",
       "      <td>1.651309e+00</td>\n",
       "      <td>1.516255e+00</td>\n",
       "      <td>1.415869e+00</td>\n",
       "      <td>1.380247e+00</td>\n",
       "      <td>1.332271e+00</td>\n",
       "      <td>1.237094e+00</td>\n",
       "      <td>1.194353e+00</td>\n",
       "      <td>1.098632e+00</td>\n",
       "      <td>...</td>\n",
       "      <td>7.345240e-01</td>\n",
       "      <td>7.257016e-01</td>\n",
       "      <td>6.244603e-01</td>\n",
       "      <td>6.056471e-01</td>\n",
       "      <td>5.212781e-01</td>\n",
       "      <td>4.822270e-01</td>\n",
       "      <td>4.036325e-01</td>\n",
       "      <td>3.300833e-01</td>\n",
       "      <td>250.120109</td>\n",
       "      <td>0.041527</td>\n",
       "    </tr>\n",
       "    <tr>\n",
       "      <th>min</th>\n",
       "      <td>0.000000</td>\n",
       "      <td>-5.640751e+01</td>\n",
       "      <td>-7.271573e+01</td>\n",
       "      <td>-4.832559e+01</td>\n",
       "      <td>-5.683171e+00</td>\n",
       "      <td>-1.137433e+02</td>\n",
       "      <td>-2.616051e+01</td>\n",
       "      <td>-4.355724e+01</td>\n",
       "      <td>-7.321672e+01</td>\n",
       "      <td>-1.343407e+01</td>\n",
       "      <td>...</td>\n",
       "      <td>-3.483038e+01</td>\n",
       "      <td>-1.093314e+01</td>\n",
       "      <td>-4.480774e+01</td>\n",
       "      <td>-2.836627e+00</td>\n",
       "      <td>-1.029540e+01</td>\n",
       "      <td>-2.604551e+00</td>\n",
       "      <td>-2.256568e+01</td>\n",
       "      <td>-1.543008e+01</td>\n",
       "      <td>0.000000</td>\n",
       "      <td>0.000000</td>\n",
       "    </tr>\n",
       "    <tr>\n",
       "      <th>25%</th>\n",
       "      <td>54201.500000</td>\n",
       "      <td>-9.203734e-01</td>\n",
       "      <td>-5.985499e-01</td>\n",
       "      <td>-8.903648e-01</td>\n",
       "      <td>-8.486401e-01</td>\n",
       "      <td>-6.915971e-01</td>\n",
       "      <td>-7.682956e-01</td>\n",
       "      <td>-5.540759e-01</td>\n",
       "      <td>-2.086297e-01</td>\n",
       "      <td>-6.430976e-01</td>\n",
       "      <td>...</td>\n",
       "      <td>-2.283949e-01</td>\n",
       "      <td>-5.423504e-01</td>\n",
       "      <td>-1.618463e-01</td>\n",
       "      <td>-3.545861e-01</td>\n",
       "      <td>-3.171451e-01</td>\n",
       "      <td>-3.269839e-01</td>\n",
       "      <td>-7.083953e-02</td>\n",
       "      <td>-5.295979e-02</td>\n",
       "      <td>5.600000</td>\n",
       "      <td>0.000000</td>\n",
       "    </tr>\n",
       "    <tr>\n",
       "      <th>50%</th>\n",
       "      <td>84692.000000</td>\n",
       "      <td>1.810880e-02</td>\n",
       "      <td>6.548556e-02</td>\n",
       "      <td>1.798463e-01</td>\n",
       "      <td>-1.984653e-02</td>\n",
       "      <td>-5.433583e-02</td>\n",
       "      <td>-2.741871e-01</td>\n",
       "      <td>4.010308e-02</td>\n",
       "      <td>2.235804e-02</td>\n",
       "      <td>-5.142873e-02</td>\n",
       "      <td>...</td>\n",
       "      <td>-2.945017e-02</td>\n",
       "      <td>6.781943e-03</td>\n",
       "      <td>-1.119293e-02</td>\n",
       "      <td>4.097606e-02</td>\n",
       "      <td>1.659350e-02</td>\n",
       "      <td>-5.213911e-02</td>\n",
       "      <td>1.342146e-03</td>\n",
       "      <td>1.124383e-02</td>\n",
       "      <td>22.000000</td>\n",
       "      <td>0.000000</td>\n",
       "    </tr>\n",
       "    <tr>\n",
       "      <th>75%</th>\n",
       "      <td>139320.500000</td>\n",
       "      <td>1.315642e+00</td>\n",
       "      <td>8.037239e-01</td>\n",
       "      <td>1.027196e+00</td>\n",
       "      <td>7.433413e-01</td>\n",
       "      <td>6.119264e-01</td>\n",
       "      <td>3.985649e-01</td>\n",
       "      <td>5.704361e-01</td>\n",
       "      <td>3.273459e-01</td>\n",
       "      <td>5.971390e-01</td>\n",
       "      <td>...</td>\n",
       "      <td>1.863772e-01</td>\n",
       "      <td>5.285536e-01</td>\n",
       "      <td>1.476421e-01</td>\n",
       "      <td>4.395266e-01</td>\n",
       "      <td>3.507156e-01</td>\n",
       "      <td>2.409522e-01</td>\n",
       "      <td>9.104512e-02</td>\n",
       "      <td>7.827995e-02</td>\n",
       "      <td>77.165000</td>\n",
       "      <td>0.000000</td>\n",
       "    </tr>\n",
       "    <tr>\n",
       "      <th>max</th>\n",
       "      <td>172792.000000</td>\n",
       "      <td>2.454930e+00</td>\n",
       "      <td>2.205773e+01</td>\n",
       "      <td>9.382558e+00</td>\n",
       "      <td>1.687534e+01</td>\n",
       "      <td>3.480167e+01</td>\n",
       "      <td>7.330163e+01</td>\n",
       "      <td>1.205895e+02</td>\n",
       "      <td>2.000721e+01</td>\n",
       "      <td>1.559499e+01</td>\n",
       "      <td>...</td>\n",
       "      <td>2.720284e+01</td>\n",
       "      <td>1.050309e+01</td>\n",
       "      <td>2.252841e+01</td>\n",
       "      <td>4.584549e+00</td>\n",
       "      <td>7.519589e+00</td>\n",
       "      <td>3.517346e+00</td>\n",
       "      <td>3.161220e+01</td>\n",
       "      <td>3.384781e+01</td>\n",
       "      <td>25691.160000</td>\n",
       "      <td>1.000000</td>\n",
       "    </tr>\n",
       "  </tbody>\n",
       "</table>\n",
       "<p>8 rows × 31 columns</p>\n",
       "</div>"
      ],
      "text/plain": [
       "                Time            V1            V2            V3            V4  \\\n",
       "count  284807.000000  2.848070e+05  2.848070e+05  2.848070e+05  2.848070e+05   \n",
       "mean    94813.859575  1.168375e-15  3.416908e-16 -1.379537e-15  2.074095e-15   \n",
       "std     47488.145955  1.958696e+00  1.651309e+00  1.516255e+00  1.415869e+00   \n",
       "min         0.000000 -5.640751e+01 -7.271573e+01 -4.832559e+01 -5.683171e+00   \n",
       "25%     54201.500000 -9.203734e-01 -5.985499e-01 -8.903648e-01 -8.486401e-01   \n",
       "50%     84692.000000  1.810880e-02  6.548556e-02  1.798463e-01 -1.984653e-02   \n",
       "75%    139320.500000  1.315642e+00  8.037239e-01  1.027196e+00  7.433413e-01   \n",
       "max    172792.000000  2.454930e+00  2.205773e+01  9.382558e+00  1.687534e+01   \n",
       "\n",
       "                 V5            V6            V7            V8            V9  \\\n",
       "count  2.848070e+05  2.848070e+05  2.848070e+05  2.848070e+05  2.848070e+05   \n",
       "mean   9.604066e-16  1.487313e-15 -5.556467e-16  1.213481e-16 -2.406331e-15   \n",
       "std    1.380247e+00  1.332271e+00  1.237094e+00  1.194353e+00  1.098632e+00   \n",
       "min   -1.137433e+02 -2.616051e+01 -4.355724e+01 -7.321672e+01 -1.343407e+01   \n",
       "25%   -6.915971e-01 -7.682956e-01 -5.540759e-01 -2.086297e-01 -6.430976e-01   \n",
       "50%   -5.433583e-02 -2.741871e-01  4.010308e-02  2.235804e-02 -5.142873e-02   \n",
       "75%    6.119264e-01  3.985649e-01  5.704361e-01  3.273459e-01  5.971390e-01   \n",
       "max    3.480167e+01  7.330163e+01  1.205895e+02  2.000721e+01  1.559499e+01   \n",
       "\n",
       "       ...           V21           V22           V23           V24  \\\n",
       "count  ...  2.848070e+05  2.848070e+05  2.848070e+05  2.848070e+05   \n",
       "mean   ...  1.654067e-16 -3.568593e-16  2.578648e-16  4.473266e-15   \n",
       "std    ...  7.345240e-01  7.257016e-01  6.244603e-01  6.056471e-01   \n",
       "min    ... -3.483038e+01 -1.093314e+01 -4.480774e+01 -2.836627e+00   \n",
       "25%    ... -2.283949e-01 -5.423504e-01 -1.618463e-01 -3.545861e-01   \n",
       "50%    ... -2.945017e-02  6.781943e-03 -1.119293e-02  4.097606e-02   \n",
       "75%    ...  1.863772e-01  5.285536e-01  1.476421e-01  4.395266e-01   \n",
       "max    ...  2.720284e+01  1.050309e+01  2.252841e+01  4.584549e+00   \n",
       "\n",
       "                V25           V26           V27           V28         Amount  \\\n",
       "count  2.848070e+05  2.848070e+05  2.848070e+05  2.848070e+05  284807.000000   \n",
       "mean   5.340915e-16  1.683437e-15 -3.660091e-16 -1.227390e-16      88.349619   \n",
       "std    5.212781e-01  4.822270e-01  4.036325e-01  3.300833e-01     250.120109   \n",
       "min   -1.029540e+01 -2.604551e+00 -2.256568e+01 -1.543008e+01       0.000000   \n",
       "25%   -3.171451e-01 -3.269839e-01 -7.083953e-02 -5.295979e-02       5.600000   \n",
       "50%    1.659350e-02 -5.213911e-02  1.342146e-03  1.124383e-02      22.000000   \n",
       "75%    3.507156e-01  2.409522e-01  9.104512e-02  7.827995e-02      77.165000   \n",
       "max    7.519589e+00  3.517346e+00  3.161220e+01  3.384781e+01   25691.160000   \n",
       "\n",
       "               Class  \n",
       "count  284807.000000  \n",
       "mean        0.001727  \n",
       "std         0.041527  \n",
       "min         0.000000  \n",
       "25%         0.000000  \n",
       "50%         0.000000  \n",
       "75%         0.000000  \n",
       "max         1.000000  \n",
       "\n",
       "[8 rows x 31 columns]"
      ]
     },
     "execution_count": 2,
     "metadata": {},
     "output_type": "execute_result"
    }
   ],
   "source": [
    "df.describe()"
   ]
  },
  {
   "cell_type": "markdown",
   "id": "objective-asset",
   "metadata": {},
   "source": [
    "+ The table above shows the statistic metrics\n",
    "+ The varaibles V1-V28 seem to have the same range of values, but Time and Amount don't."
   ]
  },
  {
   "cell_type": "code",
   "execution_count": 3,
   "id": "curious-grant",
   "metadata": {},
   "outputs": [
    {
     "data": {
      "text/plain": [
       "Text(0.5, 0, 'Variables')"
      ]
     },
     "execution_count": 3,
     "metadata": {},
     "output_type": "execute_result"
    },
    {
     "data": {
      "image/png": "[encoded data removed]",
      "text/plain": [
       "<Figure size 1440x432 with 2 Axes>"
      ]
     },
     "metadata": {
      "needs_background": "light"
     },
     "output_type": "display_data"
    }
   ],
   "source": [
    "import matplotlib.pyplot as plt\n",
    "\n",
    "#Boxplots\n",
    "fig, ax = plt.subplots(ncols=2, figsize=(20,6))\n",
    "\n",
    "df.drop(['Time', 'Amount'], axis=1).plot.box( ax = ax[0])\n",
    "df[['Time', 'Amount']].plot.box( ax = ax[1])\n",
    "ax[0].set_xlabel(\"Variables\")\n",
    "ax[0].set_ylabel(\"Range of values\")\n",
    "ax[1].set_xlabel(\"Variables\")"
   ]
  },
  {
   "cell_type": "markdown",
   "id": "excess-collapse",
   "metadata": {},
   "source": [
    "+ The boxplots shows more clearly the distributions of the variables. \n",
    "+ Some variables seem to be skeweed like V1-V4 and Amount. \n",
    "+ Most of the variables have outliers, some with farther outliers such as V5, V6 and V7. \n",
    "+ **An approach to clean the data would be to correct the skewness and remove outliers from the variables. Nevertheless, due to the scope of the kernel this step is not performed as well as a correlation matrix to perform a multivariate analysis.**"
   ]
  },
  {
   "cell_type": "markdown",
   "id": "educational-aluminum",
   "metadata": {},
   "source": [
    "### Data Imbalance"
   ]
  },
  {
   "cell_type": "code",
   "execution_count": 4,
   "id": "therapeutic-forest",
   "metadata": {},
   "outputs": [
    {
     "name": "stdout",
     "output_type": "stream",
     "text": [
      "None-Fraud Cases: 284,315 and Fraud Cases: 492\n",
      "None-Fraud Cases: 99.83% and Fraud Cases: 0.17%\n"
     ]
    }
   ],
   "source": [
    "counts = df.Class.value_counts()\n",
    "print(f'None-Fraud Cases: {counts[0]:,} and Fraud Cases: {counts[1]:,}')\n",
    "print(f'None-Fraud Cases: {round(counts[0]/len(df)*100,2):,}% and Fraud Cases: {round(counts[1]/len(df)*100,2):,}%')"
   ]
  },
  {
   "cell_type": "code",
   "execution_count": 5,
   "id": "surgical-citation",
   "metadata": {},
   "outputs": [
    {
     "data": {
      "image/png": "[encoded data removed]",
      "text/plain": [
       "<Figure size 432x288 with 1 Axes>"
      ]
     },
     "metadata": {
      "needs_background": "light"
     },
     "output_type": "display_data"
    }
   ],
   "source": [
    "import seaborn as sns\n",
    "\n",
    "ax = sns.countplot(x=\"Class\", data=df)"
   ]
  },
  {
   "cell_type": "markdown",
   "id": "spoken-stomach",
   "metadata": {},
   "source": [
    "+ There is a huge difference between the proportion of None-Fraud vs Fraud Cases"
   ]
  },
  {
   "cell_type": "markdown",
   "id": "convenient-cabin",
   "metadata": {},
   "source": [
    "## **Data Preparation**"
   ]
  },
  {
   "cell_type": "markdown",
   "id": "intense-johnston",
   "metadata": {},
   "source": [
    "### Scaling data\n",
    "\n",
    "This step is performed to make all the variables have the mean of zero and standard deviation of 1. Some models from sklearn require it because their computations are very sensitive to the range of data points. Specifically the models that work with gradient descent. Both models used in this kernel use gradient descent."
   ]
  },
  {
   "cell_type": "code",
   "execution_count": 6,
   "id": "executed-canvas",
   "metadata": {},
   "outputs": [
    {
     "data": {
      "text/plain": [
       "Text(0.5, 0, 'Variables')"
      ]
     },
     "execution_count": 6,
     "metadata": {},
     "output_type": "execute_result"
    },
    {
     "data": {
      "image/png": "[encoded data removed]",
      "text/plain": [
       "<Figure size 1440x432 with 1 Axes>"
      ]
     },
     "metadata": {
      "needs_background": "light"
     },
     "output_type": "display_data"
    }
   ],
   "source": [
    "#Credit Card SMOTE\n",
    "from sklearn import preprocessing\n",
    "\n",
    "scaled_values = preprocessing.scale(df.drop('Class', axis = 1).values)\n",
    "df_scaled = pd.DataFrame(data=scaled_values, columns = df.drop('Class', axis = 1).columns)\n",
    "df_scaled['Class'] = df.Class\n",
    "\n",
    "#Boxplots\n",
    "fig, ax = plt.subplots(figsize=(20,6))\n",
    "\n",
    "df_scaled.drop('Class', axis = 1).plot.box(ax = ax)\n",
    "ax.set_xlabel(\"Variables\")\n",
    "ax.set_ylabel(\"Range of values\")\n",
    "ax.set_xlabel(\"Variables\")"
   ]
  },
  {
   "cell_type": "markdown",
   "metadata": {},
   "source": [
    "### Class average behavior"
   ]
  },
  {
   "cell_type": "code",
   "execution_count": 7,
   "metadata": {},
   "outputs": [
    {
     "data": {
      "application/vnd.plotly.v1+json": {
       "config": {
        "plotlyServerURL": "https://plot.ly"
       },
       "data": [
        {
         "fill": "toself",
         "name": "Genuine's area",
         "r": [
          0.0005126063615323309,
          0.00421594408198242,
          -0.003797514590993014,
          0.008026973271182417,
          -0.0055512790934128045,
          0.003950833809327088,
          0.0018155108978992016,
          0.007789682899798483,
          -0.0008267848498066277,
          0.0040655798939098755,
          0.00902210888106159,
          -0.00644266859554087,
          0.010840399445001819,
          0.0001900981294284937,
          0.012585508657351882,
          0.0001756892195828623,
          0.00817581912631274,
          0.013581278854059103,
          0.004637672664958499,
          -0.0014469378069039479,
          -0.0008357369616900152,
          -0.0016811553458250938,
          -0.00003350038548283487,
          0.00011169973555526763,
          0.00030038234227927824,
          -0.00013759717359212154,
          -0.00018533998427980308,
          -0.0007312987326830626,
          -0.00039668955979748607,
          -0.00023427517150635872
         ],
         "theta": [
          "Time",
          "V1",
          "V2",
          "V3",
          "V4",
          "V5",
          "V6",
          "V7",
          "V8",
          "V9",
          "V10",
          "V11",
          "V12",
          "V13",
          "V14",
          "V15",
          "V16",
          "V17",
          "V18",
          "V19",
          "V20",
          "V21",
          "V22",
          "V23",
          "V24",
          "V25",
          "V26",
          "V27",
          "V28",
          "Amount"
         ],
         "type": "scatterpolar"
        },
        {
         "fill": "toself",
         "name": "Fraud's area",
         "r": [
          -0.29622292211194556,
          -2.4362929708716092,
          2.1944926035328756,
          -4.638595336577719,
          3.2079510476497273,
          -2.283092102639876,
          -1.0491402051548961,
          -4.5014709220654545,
          0.4777791353105097,
          -2.3494011128800545,
          -5.2136603384533,
          3.7230636620756106,
          -6.2644068459465245,
          -0.10985314973265103,
          -7.272863605518287,
          -0.10152658631239937,
          -4.724609786377239,
          -7.8482953199020615,
          -2.679999804344856,
          0.8361506556298697,
          0.4829523460627948,
          0.971499353959881,
          0.019359069306003496,
          -0.06454859819998744,
          -0.17358375131123965,
          0.07951410652404527,
          0.10710353176934065,
          0.4225999983389952,
          0.22923738250776565,
          0.1353820028187772
         ],
         "theta": [
          "Time",
          "V1",
          "V2",
          "V3",
          "V4",
          "V5",
          "V6",
          "V7",
          "V8",
          "V9",
          "V10",
          "V11",
          "V12",
          "V13",
          "V14",
          "V15",
          "V16",
          "V17",
          "V18",
          "V19",
          "V20",
          "V21",
          "V22",
          "V23",
          "V24",
          "V25",
          "V26",
          "V27",
          "V28",
          "Amount"
         ],
         "type": "scatterpolar"
        }
       ],
       "layout": {
        "template": {
         "data": {
          "bar": [
           {
            "error_x": {
             "color": "#2a3f5f"
            },
            "error_y": {
             "color": "#2a3f5f"
            },
            "marker": {
             "line": {
              "color": "#E5ECF6",
              "width": 0.5
             },
             "pattern": {
              "fillmode": "overlay",
              "size": 10,
              "solidity": 0.2
             }
            },
            "type": "bar"
           }
          ],
          "barpolar": [
           {
            "marker": {
             "line": {
              "color": "#E5ECF6",
              "width": 0.5
             },
             "pattern": {
              "fillmode": "overlay",
              "size": 10,
              "solidity": 0.2
             }
            },
            "type": "barpolar"
           }
          ],
          "carpet": [
           {
            "aaxis": {
             "endlinecolor": "#2a3f5f",
             "gridcolor": "white",
             "linecolor": "white",
             "minorgridcolor": "white",
             "startlinecolor": "#2a3f5f"
            },
            "baxis": {
             "endlinecolor": "#2a3f5f",
             "gridcolor": "white",
             "linecolor": "white",
             "minorgridcolor": "white",
             "startlinecolor": "#2a3f5f"
            },
            "type": "carpet"
           }
          ],
          "choropleth": [
           {
            "colorbar": {
             "outlinewidth": 0,
             "ticks": ""
            },
            "type": "choropleth"
           }
          ],
          "contour": [
           {
            "colorbar": {
             "outlinewidth": 0,
             "ticks": ""
            },
            "colorscale": [
             [
              0,
              "#0d0887"
             ],
             [
              0.1111111111111111,
              "#46039f"
             ],
             [
              0.2222222222222222,
              "#7201a8"
             ],
             [
              0.3333333333333333,
              "#9c179e"
             ],
             [
              0.4444444444444444,
              "#bd3786"
             ],
             [
              0.5555555555555556,
              "#d8576b"
             ],
             [
              0.6666666666666666,
              "#ed7953"
             ],
             [
              0.7777777777777778,
              "#fb9f3a"
             ],
             [
              0.8888888888888888,
              "#fdca26"
             ],
             [
              1,
              "#f0f921"
             ]
            ],
            "type": "contour"
           }
          ],
          "contourcarpet": [
           {
            "colorbar": {
             "outlinewidth": 0,
             "ticks": ""
            },
            "type": "contourcarpet"
           }
          ],
          "heatmap": [
           {
            "colorbar": {
             "outlinewidth": 0,
             "ticks": ""
            },
            "colorscale": [
             [
              0,
              "#0d0887"
             ],
             [
              0.1111111111111111,
              "#46039f"
             ],
             [
              0.2222222222222222,
              "#7201a8"
             ],
             [
              0.3333333333333333,
              "#9c179e"
             ],
             [
              0.4444444444444444,
              "#bd3786"
             ],
             [
              0.5555555555555556,
              "#d8576b"
             ],
             [
              0.6666666666666666,
              "#ed7953"
             ],
             [
              0.7777777777777778,
              "#fb9f3a"
             ],
             [
              0.8888888888888888,
              "#fdca26"
             ],
             [
              1,
              "#f0f921"
             ]
            ],
            "type": "heatmap"
           }
          ],
          "heatmapgl": [
           {
            "colorbar": {
             "outlinewidth": 0,
             "ticks": ""
            },
            "colorscale": [
             [
              0,
              "#0d0887"
             ],
             [
              0.1111111111111111,
              "#46039f"
             ],
             [
              0.2222222222222222,
              "#7201a8"
             ],
             [
              0.3333333333333333,
              "#9c179e"
             ],
             [
              0.4444444444444444,
              "#bd3786"
             ],
             [
              0.5555555555555556,
              "#d8576b"
             ],
             [
              0.6666666666666666,
              "#ed7953"
             ],
             [
              0.7777777777777778,
              "#fb9f3a"
             ],
             [
              0.8888888888888888,
              "#fdca26"
             ],
             [
              1,
              "#f0f921"
             ]
            ],
            "type": "heatmapgl"
           }
          ],
          "histogram": [
           {
            "marker": {
             "pattern": {
              "fillmode": "overlay",
              "size": 10,
              "solidity": 0.2
             }
            },
            "type": "histogram"
           }
          ],
          "histogram2d": [
           {
            "colorbar": {
             "outlinewidth": 0,
             "ticks": ""
            },
            "colorscale": [
             [
              0,
              "#0d0887"
             ],
             [
              0.1111111111111111,
              "#46039f"
             ],
             [
              0.2222222222222222,
              "#7201a8"
             ],
             [
              0.3333333333333333,
              "#9c179e"
             ],
             [
              0.4444444444444444,
              "#bd3786"
             ],
             [
              0.5555555555555556,
              "#d8576b"
             ],
             [
              0.6666666666666666,
              "#ed7953"
             ],
             [
              0.7777777777777778,
              "#fb9f3a"
             ],
             [
              0.8888888888888888,
              "#fdca26"
             ],
             [
              1,
              "#f0f921"
             ]
            ],
            "type": "histogram2d"
           }
          ],
          "histogram2dcontour": [
           {
            "colorbar": {
             "outlinewidth": 0,
             "ticks": ""
            },
            "colorscale": [
             [
              0,
              "#0d0887"
             ],
             [
              0.1111111111111111,
              "#46039f"
             ],
             [
              0.2222222222222222,
              "#7201a8"
             ],
             [
              0.3333333333333333,
              "#9c179e"
             ],
             [
              0.4444444444444444,
              "#bd3786"
             ],
             [
              0.5555555555555556,
              "#d8576b"
             ],
             [
              0.6666666666666666,
              "#ed7953"
             ],
             [
              0.7777777777777778,
              "#fb9f3a"
             ],
             [
              0.8888888888888888,
              "#fdca26"
             ],
             [
              1,
              "#f0f921"
             ]
            ],
            "type": "histogram2dcontour"
           }
          ],
          "mesh3d": [
           {
            "colorbar": {
             "outlinewidth": 0,
             "ticks": ""
            },
            "type": "mesh3d"
           }
          ],
          "parcoords": [
           {
            "line": {
             "colorbar": {
              "outlinewidth": 0,
              "ticks": ""
             }
            },
            "type": "parcoords"
           }
          ],
          "pie": [
           {
            "automargin": true,
            "type": "pie"
           }
          ],
          "scatter": [
           {
            "marker": {
             "colorbar": {
              "outlinewidth": 0,
              "ticks": ""
             }
            },
            "type": "scatter"
           }
          ],
          "scatter3d": [
           {
            "line": {
             "colorbar": {
              "outlinewidth": 0,
              "ticks": ""
             }
            },
            "marker": {
             "colorbar": {
              "outlinewidth": 0,
              "ticks": ""
             }
            },
            "type": "scatter3d"
           }
          ],
          "scattercarpet": [
           {
            "marker": {
             "colorbar": {
              "outlinewidth": 0,
              "ticks": ""
             }
            },
            "type": "scattercarpet"
           }
          ],
          "scattergeo": [
           {
            "marker": {
             "colorbar": {
              "outlinewidth": 0,
              "ticks": ""
             }
            },
            "type": "scattergeo"
           }
          ],
          "scattergl": [
           {
            "marker": {
             "colorbar": {
              "outlinewidth": 0,
              "ticks": ""
             }
            },
            "type": "scattergl"
           }
          ],
          "scattermapbox": [
           {
            "marker": {
             "colorbar": {
              "outlinewidth": 0,
              "ticks": ""
             }
            },
            "type": "scattermapbox"
           }
          ],
          "scatterpolar": [
           {
            "marker": {
             "colorbar": {
              "outlinewidth": 0,
              "ticks": ""
             }
            },
            "type": "scatterpolar"
           }
          ],
          "scatterpolargl": [
           {
            "marker": {
             "colorbar": {
              "outlinewidth": 0,
              "ticks": ""
             }
            },
            "type": "scatterpolargl"
           }
          ],
          "scatterternary": [
           {
            "marker": {
             "colorbar": {
              "outlinewidth": 0,
              "ticks": ""
             }
            },
            "type": "scatterternary"
           }
          ],
          "surface": [
           {
            "colorbar": {
             "outlinewidth": 0,
             "ticks": ""
            },
            "colorscale": [
             [
              0,
              "#0d0887"
             ],
             [
              0.1111111111111111,
              "#46039f"
             ],
             [
              0.2222222222222222,
              "#7201a8"
             ],
             [
              0.3333333333333333,
              "#9c179e"
             ],
             [
              0.4444444444444444,
              "#bd3786"
             ],
             [
              0.5555555555555556,
              "#d8576b"
             ],
             [
              0.6666666666666666,
              "#ed7953"
             ],
             [
              0.7777777777777778,
              "#fb9f3a"
             ],
             [
              0.8888888888888888,
              "#fdca26"
             ],
             [
              1,
              "#f0f921"
             ]
            ],
            "type": "surface"
           }
          ],
          "table": [
           {
            "cells": {
             "fill": {
              "color": "#EBF0F8"
             },
             "line": {
              "color": "white"
             }
            },
            "header": {
             "fill": {
              "color": "#C8D4E3"
             },
             "line": {
              "color": "white"
             }
            },
            "type": "table"
           }
          ]
         },
         "layout": {
          "annotationdefaults": {
           "arrowcolor": "#2a3f5f",
           "arrowhead": 0,
           "arrowwidth": 1
          },
          "autotypenumbers": "strict",
          "coloraxis": {
           "colorbar": {
            "outlinewidth": 0,
            "ticks": ""
           }
          },
          "colorscale": {
           "diverging": [
            [
             0,
             "#8e0152"
            ],
            [
             0.1,
             "#c51b7d"
            ],
            [
             0.2,
             "#de77ae"
            ],
            [
             0.3,
             "#f1b6da"
            ],
            [
             0.4,
             "#fde0ef"
            ],
            [
             0.5,
             "#f7f7f7"
            ],
            [
             0.6,
             "#e6f5d0"
            ],
            [
             0.7,
             "#b8e186"
            ],
            [
             0.8,
             "#7fbc41"
            ],
            [
             0.9,
             "#4d9221"
            ],
            [
             1,
             "#276419"
            ]
           ],
           "sequential": [
            [
             0,
             "#0d0887"
            ],
            [
             0.1111111111111111,
             "#46039f"
            ],
            [
             0.2222222222222222,
             "#7201a8"
            ],
            [
             0.3333333333333333,
             "#9c179e"
            ],
            [
             0.4444444444444444,
             "#bd3786"
            ],
            [
             0.5555555555555556,
             "#d8576b"
            ],
            [
             0.6666666666666666,
             "#ed7953"
            ],
            [
             0.7777777777777778,
             "#fb9f3a"
            ],
            [
             0.8888888888888888,
             "#fdca26"
            ],
            [
             1,
             "#f0f921"
            ]
           ],
           "sequentialminus": [
            [
             0,
             "#0d0887"
            ],
            [
             0.1111111111111111,
             "#46039f"
            ],
            [
             0.2222222222222222,
             "#7201a8"
            ],
            [
             0.3333333333333333,
             "#9c179e"
            ],
            [
             0.4444444444444444,
             "#bd3786"
            ],
            [
             0.5555555555555556,
             "#d8576b"
            ],
            [
             0.6666666666666666,
             "#ed7953"
            ],
            [
             0.7777777777777778,
             "#fb9f3a"
            ],
            [
             0.8888888888888888,
             "#fdca26"
            ],
            [
             1,
             "#f0f921"
            ]
           ]
          },
          "colorway": [
           "#636efa",
           "#EF553B",
           "#00cc96",
           "#ab63fa",
           "#FFA15A",
           "#19d3f3",
           "#FF6692",
           "#B6E880",
           "#FF97FF",
           "#FECB52"
          ],
          "font": {
           "color": "#2a3f5f"
          },
          "geo": {
           "bgcolor": "white",
           "lakecolor": "white",
           "landcolor": "#E5ECF6",
           "showlakes": true,
           "showland": true,
           "subunitcolor": "white"
          },
          "hoverlabel": {
           "align": "left"
          },
          "hovermode": "closest",
          "mapbox": {
           "style": "light"
          },
          "paper_bgcolor": "white",
          "plot_bgcolor": "#E5ECF6",
          "polar": {
           "angularaxis": {
            "gridcolor": "white",
            "linecolor": "white",
            "ticks": ""
           },
           "bgcolor": "#E5ECF6",
           "radialaxis": {
            "gridcolor": "white",
            "linecolor": "white",
            "ticks": ""
           }
          },
          "scene": {
           "xaxis": {
            "backgroundcolor": "#E5ECF6",
            "gridcolor": "white",
            "gridwidth": 2,
            "linecolor": "white",
            "showbackground": true,
            "ticks": "",
            "zerolinecolor": "white"
           },
           "yaxis": {
            "backgroundcolor": "#E5ECF6",
            "gridcolor": "white",
            "gridwidth": 2,
            "linecolor": "white",
            "showbackground": true,
            "ticks": "",
            "zerolinecolor": "white"
           },
           "zaxis": {
            "backgroundcolor": "#E5ECF6",
            "gridcolor": "white",
            "gridwidth": 2,
            "linecolor": "white",
            "showbackground": true,
            "ticks": "",
            "zerolinecolor": "white"
           }
          },
          "shapedefaults": {
           "line": {
            "color": "#2a3f5f"
           }
          },
          "ternary": {
           "aaxis": {
            "gridcolor": "white",
            "linecolor": "white",
            "ticks": ""
           },
           "baxis": {
            "gridcolor": "white",
            "linecolor": "white",
            "ticks": ""
           },
           "bgcolor": "#E5ECF6",
           "caxis": {
            "gridcolor": "white",
            "linecolor": "white",
            "ticks": ""
           }
          },
          "title": {
           "x": 0.05
          },
          "xaxis": {
           "automargin": true,
           "gridcolor": "white",
           "linecolor": "white",
           "ticks": "",
           "title": {
            "standoff": 15
           },
           "zerolinecolor": "white",
           "zerolinewidth": 2
          },
          "yaxis": {
           "automargin": true,
           "gridcolor": "white",
           "linecolor": "white",
           "ticks": "",
           "title": {
            "standoff": 15
           },
           "zerolinecolor": "white",
           "zerolinewidth": 2
          }
         }
        }
       }
      }
     },
     "metadata": {},
     "output_type": "display_data"
    }
   ],
   "source": [
    "import plotly.graph_objects as go\n",
    "\n",
    "df_profile = df_scaled.groupby('Class').mean()\n",
    "categories = df_profile.columns\n",
    "\n",
    "#Plot \n",
    "fig = go.Figure()\n",
    "\n",
    "fig.add_trace(go.Scatterpolar(\n",
    "        r= df_profile.iloc[0].to_list(),\n",
    "        theta=categories,\n",
    "        fill='toself',\n",
    "        name='Genuine\\'s area'\n",
    "))\n",
    "\n",
    "fig.add_trace(go.Scatterpolar(\n",
    "        r=df_profile.iloc[1].to_list(),\n",
    "        theta=categories,\n",
    "        fill='toself',\n",
    "        name='Fraud\\'s area'\n",
    "))\n",
    "\n",
    "fig.show()"
   ]
  },
  {
   "cell_type": "markdown",
   "id": "dominant-adjustment",
   "metadata": {},
   "source": [
    "### Split Data"
   ]
  },
  {
   "cell_type": "code",
   "execution_count": 8,
   "id": "married-roller",
   "metadata": {},
   "outputs": [],
   "source": [
    "from sklearn.model_selection import train_test_split\n",
    "\n",
    "y = df_scaled.Class\n",
    "X = df_scaled.drop('Class', axis = 1)\n",
    "\n",
    "#Setting up testing and traning sets\n",
    "X_train, X_test, y_train, y_test = train_test_split(X,y, test_size=0.25, random_state=27)\n",
    "\n",
    "#Setting up the train and validation test\n",
    "X_train, X_val, y_train, y_val = train_test_split(X_train,y_train, test_size=0.25, random_state=27)"
   ]
  },
  {
   "cell_type": "code",
   "execution_count": 8,
   "id": "bigger-bangladesh",
   "metadata": {},
   "outputs": [
    {
     "name": "stdout",
     "output_type": "stream",
     "text": [
      "Train instances: 160203, None_Fraud: 159945 and Fraud: 258\n",
      "Val instances: 53402, None_Fraud: 53300 and Fraud: 102\n",
      "Test instances: 71202, None_Fraud: 71070 and Fraud: 132\n"
     ]
    }
   ],
   "source": [
    "print('Train instances: {}, None_Fraud: {} and Fraud: {}'.format(len(y_train),\n",
    "                                                                         y_train.value_counts()[0],\n",
    "                                                                         y_train.value_counts()[1]))\n",
    "\n",
    "print('Val instances: {}, None_Fraud: {} and Fraud: {}'.format( len(y_val), \n",
    "                                                                         y_val.value_counts()[0],\n",
    "                                                                         y_val.value_counts()[1]))\n",
    "\n",
    "print('Test instances: {}, None_Fraud: {} and Fraud: {}'.format( len(y_test),\n",
    "                                                                         y_test.value_counts()[0],\n",
    "                                                                         y_test.value_counts()[1]))"
   ]
  },
  {
   "cell_type": "markdown",
   "id": "received-whole",
   "metadata": {},
   "source": [
    "The data is splitted in three sets\n",
    "   + Train instances to train the model. \n",
    "   + Val instances to validate the model if required. \n",
    "   + And the Test instances to evaluate the model. "
   ]
  },
  {
   "cell_type": "markdown",
   "id": "casual-nancy",
   "metadata": {},
   "source": [
    "## **Cost Approach**\n",
    "\n",
    "The following approach to compute the cost of a model is based on the technique used in this Kaggle kernel[1]. \n",
    "\n",
    "**The technique is the following:**\n",
    "+ It uses the False Positive (type I error) and False Negatives (type II error) from the confusion matrix of the tested model\n",
    "+ **It defines a cost for both errors based on business information**\n",
    "+ The computation is nothing more than the sum of the products of the errors times the costs\n",
    "+ Equation:\n",
    "    + $Cost = (FalsePostives * CostFalse Positives) + (FalseNegatives* CostFalse Negatives)$"
   ]
  },
  {
   "cell_type": "code",
   "execution_count": 9,
   "id": "lasting-luxury",
   "metadata": {},
   "outputs": [],
   "source": [
    "def cost_eq(fp,fn,costs): \n",
    "    \"\"\"\n",
    "    Function that computes the cost of the errors of a model\n",
    "    \n",
    "    Parameters:\n",
    "    -----------\n",
    "    fp: number of false positives\n",
    "    fn: number of false negatives\n",
    "    \"\"\"\n",
    "    return fp*costs['avg_analysis_cost'] + fn*costs['avg_fraud_cost']\n",
    "\n",
    "def cost_computation(conf_matrix, costs):\n",
    "    \"\"\"\n",
    "    Function that recieves the confusion matrix of a model and the cost and returns the cost of the model\n",
    "    \n",
    "    Parameters:\n",
    "    ----------\n",
    "    conf_matrix: confusion matrix of the model tested\n",
    "    costs: dict with the costs errors and test ratio\n",
    "    \"\"\"\n",
    "    false_positives = conf_matrix[0,1]\n",
    "    false_negatives = conf_matrix[1,0] \n",
    "    \n",
    "    cost = cost_eq(false_positives, false_negatives, costs)\n",
    "    TEST_RATIO = costs['test_ratio']\n",
    "    \n",
    "    validation_cost = f'The misclassification cost on this validation set, {TEST_RATIO * 100}% of data, is € {cost:,.2f}'\n",
    "    #estimation_cost = f'\\nExtrapolated to an entire day\\'s worth of transactions, (/{TEST_RATIO}/2 days), we get ~ $ {cost/TEST_RATIO/2:,.2f}'\n",
    "    \n",
    "    return validation_cost \n",
    "   "
   ]
  },
  {
   "cell_type": "markdown",
   "id": "absolute-toilet",
   "metadata": {},
   "source": [
    "**This approach is a simplification of the Expected Value Framework from [2]**\n",
    "+ The framework computes expected value for one instance classified by a model\n",
    "+ It is based on calculating the sum of the product of the confusion matrix times the cost/benefit matrix\n",
    "+ The cost/benefit matrix is defined by the business\n",
    "    + It helps to define the benefit of True Positives and True Negatives\n",
    "+ The framework can be adapted to take into account the prior distributions of datasets, which can be helpful for validating models trained with imbalanced datasets. This approach will be used in future kernels."
   ]
  },
  {
   "cell_type": "markdown",
   "id": "varying-handy",
   "metadata": {},
   "source": [
    "+ The equation is the following:\n",
    "    + $ExpectedValue = p(Y,p)*b(Y,p)+ p(N,n)*b(N,n)+ p(Y,n)*c(Y,n) + p(N,p)*c(N,p)$\n",
    "\n",
    "Where: \n",
    "   + **$p(outcome)$** are the probabilities of the outcomes of the model, they are obtained with the normalization of the confusion matrix\n",
    "   + **$b(outcome)$** are the benefits of the outcomes, they are defined by the business (may come from different source of data)\n",
    "   + **$c(outcome)$** are the cost of the outcomes, they are defined by the business (may come from different source of data)\n",
    "   \n",
    "And the outcomes can be interpreted with the following confusion matrix:\n",
    "\n",
    "|   | p      | n      |\n",
    "|---|--------|--------|\n",
    "| Y | b(Y,p) | c(Y,n) |\n",
    "| N | c(N,p) | b(N,n) |\n",
    "\n",
    "Where: \n",
    "+ p = positive\n",
    "+ n = negative\n",
    "+ Y = predicted positive\n",
    "+ N = predicted negative\n",
    "+ b = benefit\n",
    "+ c = cost\n"
   ]
  },
  {
   "cell_type": "markdown",
   "id": "animated-corporation",
   "metadata": {},
   "source": [
    "This kernel does not uses the benefits nor the probabilities."
   ]
  },
  {
   "cell_type": "markdown",
   "id": "stylish-reference",
   "metadata": {},
   "source": [
    "### Problem Assumptions\n",
    "\n",
    "**This notebook considers the following:**\n",
    "+ There is no benefit if we predict correctly the True Postive and True Negative (TP and TN).\n",
    "+ There is only a cost for both errors False Positive (FP) or c(Y,n) and False Negative (FN) or c(N,p).\n",
    "    + **The FP is when a not-fraud transaction is detected as fraud (false alarm)**\n",
    "    + **The FN is when a fraud transaction is detected as non-fraud**\n"
   ]
  },
  {
   "cell_type": "markdown",
   "id": "accepting-pierce",
   "metadata": {},
   "source": [
    "Thus, both errors are defined as:\n",
    "+ **FP: the cost of anaylizing the transaction**\n",
    "+ **FN: the cost of reimbursing the money lost in the fraud**\n",
    "\n",
    "For the sake of simplicity:\n",
    "+ FP = 3 EUR ( can be cost of a person or an algorithm to analyse the transaction, similar value as the found in this kernel [1] which is determined by the business)\n",
    "+ FN = average cost of frauds ->  Get from the data"
   ]
  },
  {
   "cell_type": "code",
   "execution_count": 10,
   "id": "manufactured-nightmare",
   "metadata": {},
   "outputs": [
    {
     "data": {
      "text/plain": [
       "122.0"
      ]
     },
     "execution_count": 10,
     "metadata": {},
     "output_type": "execute_result"
    }
   ],
   "source": [
    "#The average cost of the fraud\n",
    "avg_fraud_cost = df.groupby('Class')['Amount'].mean()[1]\n",
    "round(avg_fraud_cost,0)"
   ]
  },
  {
   "cell_type": "markdown",
   "id": "international-kernel",
   "metadata": {},
   "source": [
    "Thus the error costs are:\n",
    "+ **FP = 3 EUR** \n",
    "+ **FN = 122 EUR**"
   ]
  },
  {
   "cell_type": "code",
   "execution_count": 11,
   "id": "persistent-president",
   "metadata": {},
   "outputs": [],
   "source": [
    "costs = {\n",
    "    'avg_analysis_cost':3 ,\n",
    "    'avg_fraud_cost':122 ,\n",
    "    'test_ratio':0.25\n",
    "}"
   ]
  },
  {
   "cell_type": "markdown",
   "id": "desirable-collectible",
   "metadata": {},
   "source": [
    "### Marginal Cost"
   ]
  },
  {
   "cell_type": "code",
   "execution_count": 12,
   "id": "quick-engagement",
   "metadata": {},
   "outputs": [
    {
     "name": "stdout",
     "output_type": "stream",
     "text": [
      "Ratio= 1:41.0, this means that after 41.0 False Positives, it was not worth catching an extra fraud\n"
     ]
    }
   ],
   "source": [
    "#From cost kaggle example (marginal terminology)!!!!\n",
    "ratio = round(costs['avg_fraud_cost']/costs['avg_analysis_cost'],0)\n",
    "print( 'Ratio= 1:{0}, this means that after {0} False Positives, it was not worth catching an extra fraud'.format(ratio)) "
   ]
  },
  {
   "cell_type": "markdown",
   "metadata": {},
   "source": [
    "### Marginal plot\n",
    "\n",
    "The following plot shows the gains and losses based on the false positive for catching an extra fraud. This plot is based on the proposed in [1]."
   ]
  },
  {
   "cell_type": "code",
   "execution_count": 14,
   "metadata": {},
   "outputs": [
    {
     "data": {
      "application/vnd.plotly.v1+json": {
       "config": {
        "plotlyServerURL": "https://plot.ly"
       },
       "data": [
        {
         "hovertemplate": "x=%{x}<br>y=%{y}<extra></extra>",
         "legendgroup": "",
         "line": {
          "color": "#636efa",
          "dash": "solid"
         },
         "marker": {
          "symbol": "circle"
         },
         "mode": "lines",
         "name": "",
         "orientation": "v",
         "showlegend": false,
         "type": "scatter",
         "x": [
          0,
          1,
          2,
          3,
          4,
          5,
          6,
          7,
          8,
          9,
          10,
          11,
          12,
          13,
          14,
          15,
          16,
          17,
          18,
          19,
          20,
          21,
          22,
          23,
          24,
          25,
          26,
          27,
          28,
          29,
          30,
          31,
          32,
          33,
          34,
          35,
          36,
          37,
          38,
          39,
          40,
          41,
          42,
          43,
          44,
          45,
          46,
          47,
          48,
          49,
          50,
          51,
          52,
          53,
          54,
          55,
          56,
          57,
          58,
          59,
          60,
          61,
          62,
          63,
          64,
          65,
          66,
          67,
          68,
          69,
          70,
          71,
          72,
          73,
          74,
          75,
          76,
          77,
          78,
          79,
          80,
          81
         ],
         "xaxis": "x",
         "y": [
          122,
          119,
          116,
          113,
          110,
          107,
          104,
          101,
          98,
          95,
          92,
          89,
          86,
          83,
          80,
          77,
          74,
          71,
          68,
          65,
          62,
          59,
          56,
          53,
          50,
          47,
          44,
          41,
          38,
          35,
          32,
          29,
          26,
          23,
          20,
          17,
          14,
          11,
          8,
          5,
          2,
          -1,
          -4,
          -7,
          -10,
          -13,
          -16,
          -19,
          -22,
          -25,
          -28,
          -31,
          -34,
          -37,
          -40,
          -43,
          -46,
          -49,
          -52,
          -55,
          -58,
          -61,
          -64,
          -67,
          -70,
          -73,
          -76,
          -79,
          -82,
          -85,
          -88,
          -91,
          -94,
          -97,
          -100,
          -103,
          -106,
          -109,
          -112,
          -115,
          -118,
          -121
         ],
         "yaxis": "y"
        },
        {
         "marker": {
          "color": "red",
          "size": 10
         },
         "mode": "markers",
         "name": "Intersection",
         "showlegend": false,
         "type": "scatter",
         "x": [
          40
         ],
         "y": [
          0
         ]
        }
       ],
       "layout": {
        "legend": {
         "tracegroupgap": 0
        },
        "margin": {
         "t": 60
        },
        "template": {
         "data": {
          "bar": [
           {
            "error_x": {
             "color": "#2a3f5f"
            },
            "error_y": {
             "color": "#2a3f5f"
            },
            "marker": {
             "line": {
              "color": "#E5ECF6",
              "width": 0.5
             },
             "pattern": {
              "fillmode": "overlay",
              "size": 10,
              "solidity": 0.2
             }
            },
            "type": "bar"
           }
          ],
          "barpolar": [
           {
            "marker": {
             "line": {
              "color": "#E5ECF6",
              "width": 0.5
             },
             "pattern": {
              "fillmode": "overlay",
              "size": 10,
              "solidity": 0.2
             }
            },
            "type": "barpolar"
           }
          ],
          "carpet": [
           {
            "aaxis": {
             "endlinecolor": "#2a3f5f",
             "gridcolor": "white",
             "linecolor": "white",
             "minorgridcolor": "white",
             "startlinecolor": "#2a3f5f"
            },
            "baxis": {
             "endlinecolor": "#2a3f5f",
             "gridcolor": "white",
             "linecolor": "white",
             "minorgridcolor": "white",
             "startlinecolor": "#2a3f5f"
            },
            "type": "carpet"
           }
          ],
          "choropleth": [
           {
            "colorbar": {
             "outlinewidth": 0,
             "ticks": ""
            },
            "type": "choropleth"
           }
          ],
          "contour": [
           {
            "colorbar": {
             "outlinewidth": 0,
             "ticks": ""
            },
            "colorscale": [
             [
              0,
              "#0d0887"
             ],
             [
              0.1111111111111111,
              "#46039f"
             ],
             [
              0.2222222222222222,
              "#7201a8"
             ],
             [
              0.3333333333333333,
              "#9c179e"
             ],
             [
              0.4444444444444444,
              "#bd3786"
             ],
             [
              0.5555555555555556,
              "#d8576b"
             ],
             [
              0.6666666666666666,
              "#ed7953"
             ],
             [
              0.7777777777777778,
              "#fb9f3a"
             ],
             [
              0.8888888888888888,
              "#fdca26"
             ],
             [
              1,
              "#f0f921"
             ]
            ],
            "type": "contour"
           }
          ],
          "contourcarpet": [
           {
            "colorbar": {
             "outlinewidth": 0,
             "ticks": ""
            },
            "type": "contourcarpet"
           }
          ],
          "heatmap": [
           {
            "colorbar": {
             "outlinewidth": 0,
             "ticks": ""
            },
            "colorscale": [
             [
              0,
              "#0d0887"
             ],
             [
              0.1111111111111111,
              "#46039f"
             ],
             [
              0.2222222222222222,
              "#7201a8"
             ],
             [
              0.3333333333333333,
              "#9c179e"
             ],
             [
              0.4444444444444444,
              "#bd3786"
             ],
             [
              0.5555555555555556,
              "#d8576b"
             ],
             [
              0.6666666666666666,
              "#ed7953"
             ],
             [
              0.7777777777777778,
              "#fb9f3a"
             ],
             [
              0.8888888888888888,
              "#fdca26"
             ],
             [
              1,
              "#f0f921"
             ]
            ],
            "type": "heatmap"
           }
          ],
          "heatmapgl": [
           {
            "colorbar": {
             "outlinewidth": 0,
             "ticks": ""
            },
            "colorscale": [
             [
              0,
              "#0d0887"
             ],
             [
              0.1111111111111111,
              "#46039f"
             ],
             [
              0.2222222222222222,
              "#7201a8"
             ],
             [
              0.3333333333333333,
              "#9c179e"
             ],
             [
              0.4444444444444444,
              "#bd3786"
             ],
             [
              0.5555555555555556,
              "#d8576b"
             ],
             [
              0.6666666666666666,
              "#ed7953"
             ],
             [
              0.7777777777777778,
              "#fb9f3a"
             ],
             [
              0.8888888888888888,
              "#fdca26"
             ],
             [
              1,
              "#f0f921"
             ]
            ],
            "type": "heatmapgl"
           }
          ],
          "histogram": [
           {
            "marker": {
             "pattern": {
              "fillmode": "overlay",
              "size": 10,
              "solidity": 0.2
             }
            },
            "type": "histogram"
           }
          ],
          "histogram2d": [
           {
            "colorbar": {
             "outlinewidth": 0,
             "ticks": ""
            },
            "colorscale": [
             [
              0,
              "#0d0887"
             ],
             [
              0.1111111111111111,
              "#46039f"
             ],
             [
              0.2222222222222222,
              "#7201a8"
             ],
             [
              0.3333333333333333,
              "#9c179e"
             ],
             [
              0.4444444444444444,
              "#bd3786"
             ],
             [
              0.5555555555555556,
              "#d8576b"
             ],
             [
              0.6666666666666666,
              "#ed7953"
             ],
             [
              0.7777777777777778,
              "#fb9f3a"
             ],
             [
              0.8888888888888888,
              "#fdca26"
             ],
             [
              1,
              "#f0f921"
             ]
            ],
            "type": "histogram2d"
           }
          ],
          "histogram2dcontour": [
           {
            "colorbar": {
             "outlinewidth": 0,
             "ticks": ""
            },
            "colorscale": [
             [
              0,
              "#0d0887"
             ],
             [
              0.1111111111111111,
              "#46039f"
             ],
             [
              0.2222222222222222,
              "#7201a8"
             ],
             [
              0.3333333333333333,
              "#9c179e"
             ],
             [
              0.4444444444444444,
              "#bd3786"
             ],
             [
              0.5555555555555556,
              "#d8576b"
             ],
             [
              0.6666666666666666,
              "#ed7953"
             ],
             [
              0.7777777777777778,
              "#fb9f3a"
             ],
             [
              0.8888888888888888,
              "#fdca26"
             ],
             [
              1,
              "#f0f921"
             ]
            ],
            "type": "histogram2dcontour"
           }
          ],
          "mesh3d": [
           {
            "colorbar": {
             "outlinewidth": 0,
             "ticks": ""
            },
            "type": "mesh3d"
           }
          ],
          "parcoords": [
           {
            "line": {
             "colorbar": {
              "outlinewidth": 0,
              "ticks": ""
             }
            },
            "type": "parcoords"
           }
          ],
          "pie": [
           {
            "automargin": true,
            "type": "pie"
           }
          ],
          "scatter": [
           {
            "marker": {
             "colorbar": {
              "outlinewidth": 0,
              "ticks": ""
             }
            },
            "type": "scatter"
           }
          ],
          "scatter3d": [
           {
            "line": {
             "colorbar": {
              "outlinewidth": 0,
              "ticks": ""
             }
            },
            "marker": {
             "colorbar": {
              "outlinewidth": 0,
              "ticks": ""
             }
            },
            "type": "scatter3d"
           }
          ],
          "scattercarpet": [
           {
            "marker": {
             "colorbar": {
              "outlinewidth": 0,
              "ticks": ""
             }
            },
            "type": "scattercarpet"
           }
          ],
          "scattergeo": [
           {
            "marker": {
             "colorbar": {
              "outlinewidth": 0,
              "ticks": ""
             }
            },
            "type": "scattergeo"
           }
          ],
          "scattergl": [
           {
            "marker": {
             "colorbar": {
              "outlinewidth": 0,
              "ticks": ""
             }
            },
            "type": "scattergl"
           }
          ],
          "scattermapbox": [
           {
            "marker": {
             "colorbar": {
              "outlinewidth": 0,
              "ticks": ""
             }
            },
            "type": "scattermapbox"
           }
          ],
          "scatterpolar": [
           {
            "marker": {
             "colorbar": {
              "outlinewidth": 0,
              "ticks": ""
             }
            },
            "type": "scatterpolar"
           }
          ],
          "scatterpolargl": [
           {
            "marker": {
             "colorbar": {
              "outlinewidth": 0,
              "ticks": ""
             }
            },
            "type": "scatterpolargl"
           }
          ],
          "scatterternary": [
           {
            "marker": {
             "colorbar": {
              "outlinewidth": 0,
              "ticks": ""
             }
            },
            "type": "scatterternary"
           }
          ],
          "surface": [
           {
            "colorbar": {
             "outlinewidth": 0,
             "ticks": ""
            },
            "colorscale": [
             [
              0,
              "#0d0887"
             ],
             [
              0.1111111111111111,
              "#46039f"
             ],
             [
              0.2222222222222222,
              "#7201a8"
             ],
             [
              0.3333333333333333,
              "#9c179e"
             ],
             [
              0.4444444444444444,
              "#bd3786"
             ],
             [
              0.5555555555555556,
              "#d8576b"
             ],
             [
              0.6666666666666666,
              "#ed7953"
             ],
             [
              0.7777777777777778,
              "#fb9f3a"
             ],
             [
              0.8888888888888888,
              "#fdca26"
             ],
             [
              1,
              "#f0f921"
             ]
            ],
            "type": "surface"
           }
          ],
          "table": [
           {
            "cells": {
             "fill": {
              "color": "#EBF0F8"
             },
             "line": {
              "color": "white"
             }
            },
            "header": {
             "fill": {
              "color": "#C8D4E3"
             },
             "line": {
              "color": "white"
             }
            },
            "type": "table"
           }
          ]
         },
         "layout": {
          "annotationdefaults": {
           "arrowcolor": "#2a3f5f",
           "arrowhead": 0,
           "arrowwidth": 1
          },
          "autotypenumbers": "strict",
          "coloraxis": {
           "colorbar": {
            "outlinewidth": 0,
            "ticks": ""
           }
          },
          "colorscale": {
           "diverging": [
            [
             0,
             "#8e0152"
            ],
            [
             0.1,
             "#c51b7d"
            ],
            [
             0.2,
             "#de77ae"
            ],
            [
             0.3,
             "#f1b6da"
            ],
            [
             0.4,
             "#fde0ef"
            ],
            [
             0.5,
             "#f7f7f7"
            ],
            [
             0.6,
             "#e6f5d0"
            ],
            [
             0.7,
             "#b8e186"
            ],
            [
             0.8,
             "#7fbc41"
            ],
            [
             0.9,
             "#4d9221"
            ],
            [
             1,
             "#276419"
            ]
           ],
           "sequential": [
            [
             0,
             "#0d0887"
            ],
            [
             0.1111111111111111,
             "#46039f"
            ],
            [
             0.2222222222222222,
             "#7201a8"
            ],
            [
             0.3333333333333333,
             "#9c179e"
            ],
            [
             0.4444444444444444,
             "#bd3786"
            ],
            [
             0.5555555555555556,
             "#d8576b"
            ],
            [
             0.6666666666666666,
             "#ed7953"
            ],
            [
             0.7777777777777778,
             "#fb9f3a"
            ],
            [
             0.8888888888888888,
             "#fdca26"
            ],
            [
             1,
             "#f0f921"
            ]
           ],
           "sequentialminus": [
            [
             0,
             "#0d0887"
            ],
            [
             0.1111111111111111,
             "#46039f"
            ],
            [
             0.2222222222222222,
             "#7201a8"
            ],
            [
             0.3333333333333333,
             "#9c179e"
            ],
            [
             0.4444444444444444,
             "#bd3786"
            ],
            [
             0.5555555555555556,
             "#d8576b"
            ],
            [
             0.6666666666666666,
             "#ed7953"
            ],
            [
             0.7777777777777778,
             "#fb9f3a"
            ],
            [
             0.8888888888888888,
             "#fdca26"
            ],
            [
             1,
             "#f0f921"
            ]
           ]
          },
          "colorway": [
           "#636efa",
           "#EF553B",
           "#00cc96",
           "#ab63fa",
           "#FFA15A",
           "#19d3f3",
           "#FF6692",
           "#B6E880",
           "#FF97FF",
           "#FECB52"
          ],
          "font": {
           "color": "#2a3f5f"
          },
          "geo": {
           "bgcolor": "white",
           "lakecolor": "white",
           "landcolor": "#E5ECF6",
           "showlakes": true,
           "showland": true,
           "subunitcolor": "white"
          },
          "hoverlabel": {
           "align": "left"
          },
          "hovermode": "closest",
          "mapbox": {
           "style": "light"
          },
          "paper_bgcolor": "white",
          "plot_bgcolor": "#E5ECF6",
          "polar": {
           "angularaxis": {
            "gridcolor": "white",
            "linecolor": "white",
            "ticks": ""
           },
           "bgcolor": "#E5ECF6",
           "radialaxis": {
            "gridcolor": "white",
            "linecolor": "white",
            "ticks": ""
           }
          },
          "scene": {
           "xaxis": {
            "backgroundcolor": "#E5ECF6",
            "gridcolor": "white",
            "gridwidth": 2,
            "linecolor": "white",
            "showbackground": true,
            "ticks": "",
            "zerolinecolor": "white"
           },
           "yaxis": {
            "backgroundcolor": "#E5ECF6",
            "gridcolor": "white",
            "gridwidth": 2,
            "linecolor": "white",
            "showbackground": true,
            "ticks": "",
            "zerolinecolor": "white"
           },
           "zaxis": {
            "backgroundcolor": "#E5ECF6",
            "gridcolor": "white",
            "gridwidth": 2,
            "linecolor": "white",
            "showbackground": true,
            "ticks": "",
            "zerolinecolor": "white"
           }
          },
          "shapedefaults": {
           "line": {
            "color": "#2a3f5f"
           }
          },
          "ternary": {
           "aaxis": {
            "gridcolor": "white",
            "linecolor": "white",
            "ticks": ""
           },
           "baxis": {
            "gridcolor": "white",
            "linecolor": "white",
            "ticks": ""
           },
           "bgcolor": "#E5ECF6",
           "caxis": {
            "gridcolor": "white",
            "linecolor": "white",
            "ticks": ""
           }
          },
          "title": {
           "x": 0.05
          },
          "xaxis": {
           "automargin": true,
           "gridcolor": "white",
           "linecolor": "white",
           "ticks": "",
           "title": {
            "standoff": 15
           },
           "zerolinecolor": "white",
           "zerolinewidth": 2
          },
          "yaxis": {
           "automargin": true,
           "gridcolor": "white",
           "linecolor": "white",
           "ticks": "",
           "title": {
            "standoff": 15
           },
           "zerolinecolor": "white",
           "zerolinewidth": 2
          }
         }
        },
        "title": {
         "text": "Marginal gain per extra fraud caught",
         "x": 0.5
        },
        "xaxis": {
         "anchor": "y",
         "domain": [
          0,
          1
         ],
         "title": {
          "text": "Number of false alarm"
         }
        },
        "yaxis": {
         "anchor": "x",
         "domain": [
          0,
          1
         ],
         "title": {
          "text": "Amount in €"
         }
        }
       }
      }
     },
     "metadata": {},
     "output_type": "display_data"
    }
   ],
   "source": [
    "import plotly.express as px\n",
    "import numpy as np\n",
    "\n",
    "count_of_false_positives = np.arange(0, costs['avg_fraud_cost'] / costs['avg_analysis_cost'] * 2)\n",
    "marginal_cost_function = count_of_false_positives * -costs['avg_analysis_cost'] + costs['avg_fraud_cost'] \n",
    "intersect = int(costs['avg_fraud_cost']  / costs['avg_analysis_cost'])\n",
    "\n",
    "\n",
    "#Plot\n",
    "fig = px.line( x=count_of_false_positives, \n",
    "\ty=marginal_cost_function)\n",
    "\n",
    "fig.add_trace(\n",
    "\tgo.Scatter(\t\n",
    "\t\tmode = 'markers',\n",
    "\t\tx = [intersect],\n",
    "\t\ty = [0],\n",
    "\t\tmarker=dict(\n",
    "\t\t\tcolor='red',\n",
    "\t\t\tsize=10,\n",
    "\t\t\t),\n",
    "\t\tshowlegend=False,\n",
    "\t\tname = 'Intersection'\n",
    "\t\t))\n",
    "\n",
    "fig.update_layout(\n",
    "\tyaxis_title=\"Amount in €\",\n",
    "\txaxis_title=\"Number of false alarm\",\n",
    "\ttitle_text= \"Marginal gain per extra fraud caught\",\n",
    "\ttitle_x=0.5\n",
    "\t)\n",
    "\n",
    "fig.show()"
   ]
  },
  {
   "cell_type": "code",
   "execution_count": 15,
   "metadata": {},
   "outputs": [
    {
     "name": "stdout",
     "output_type": "stream",
     "text": [
      "After 40 false alarms, it wasn't worth catching the extra fraud.\n"
     ]
    }
   ],
   "source": [
    "print(f'After {intersect} false alarms, it wasn\\'t worth catching the extra fraud.')"
   ]
  },
  {
   "cell_type": "markdown",
   "id": "placed-citizen",
   "metadata": {},
   "source": [
    "### Cost of doing nothing"
   ]
  },
  {
   "cell_type": "code",
   "execution_count": 16,
   "id": "endless-batman",
   "metadata": {},
   "outputs": [
    {
     "name": "stdout",
     "output_type": "stream",
     "text": [
      "Reimbursing all fraud would be on average cost ~ € 30,012.0 / day\n"
     ]
    }
   ],
   "source": [
    "cost_of_do_nothing = costs['avg_fraud_cost']*df.Class.value_counts()[1]\n",
    "print(f'Reimbursing all fraud would be on average cost ~ € {round(cost_of_do_nothing/2,1):,} / day')"
   ]
  },
  {
   "cell_type": "markdown",
   "id": "difficult-neutral",
   "metadata": {},
   "source": [
    "### Cost of checking all the transactions"
   ]
  },
  {
   "cell_type": "code",
   "execution_count": 17,
   "id": "tender-expense",
   "metadata": {},
   "outputs": [
    {
     "name": "stdout",
     "output_type": "stream",
     "text": [
      "Cost of checking all transactions would be on average ~ € 427,210.5 / day\n"
     ]
    }
   ],
   "source": [
    "cost_of_checking_all = costs['avg_analysis_cost']*len(df) \n",
    "print(f'Cost of checking all transactions would be on average ~ € {round(cost_of_checking_all/2,1):,} / day')"
   ]
  },
  {
   "cell_type": "markdown",
   "id": "affecting-collection",
   "metadata": {},
   "source": [
    "## **Modeling**"
   ]
  },
  {
   "cell_type": "markdown",
   "id": "neural-things",
   "metadata": {},
   "source": [
    "### Baseline model\n",
    "\n",
    "The purpose of this model is to have a baseline to show a model with bad performance. In this case it is simulating a model which always predicts the same label due to the imbalanced dataset. "
   ]
  },
  {
   "cell_type": "code",
   "execution_count": 18,
   "id": "opposite-spanking",
   "metadata": {},
   "outputs": [
    {
     "data": {
      "text/plain": [
       "'The misclassification cost on this validation set, 25.0% of data, is € 16,104.00'"
      ]
     },
     "execution_count": 18,
     "metadata": {},
     "output_type": "execute_result"
    }
   ],
   "source": [
    "from sklearn.dummy import DummyClassifier\n",
    "from sklearn.metrics import accuracy_score, f1_score, confusion_matrix, recall_score\n",
    "import numpy as np\n",
    "\n",
    "#DummyClassifiert to predict only target 0\n",
    "dummy = DummyClassifier(strategy='most_frequent', random_state=42).fit(X_train, y_train)\n",
    "dummy_pred = dummy.predict(X_test)\n",
    "\n",
    "#Get confusion matrix\n",
    "cm_base = confusion_matrix(y_test, dummy_pred)\n",
    "\n",
    "\n",
    "#Get the costs\n",
    "cost_computation(cm_base, costs)"
   ]
  },
  {
   "cell_type": "markdown",
   "id": "fifty-phoenix",
   "metadata": {},
   "source": [
    "### Logistic Regression model\n",
    "\n",
    "This model works applies a better algorithm than the dummy"
   ]
  },
  {
   "cell_type": "code",
   "execution_count": 19,
   "id": "remarkable-reggae",
   "metadata": {},
   "outputs": [
    {
     "data": {
      "text/plain": [
       "'The misclassification cost on this validation set, 25.0% of data, is € 5,755.00'"
      ]
     },
     "execution_count": 19,
     "metadata": {},
     "output_type": "execute_result"
    }
   ],
   "source": [
    "from sklearn.linear_model import LogisticRegression\n",
    "\n",
    "#Logistic regression model\n",
    "logreg = LogisticRegression().fit(X_train.values, y_train.values)\n",
    "logreg_pred = logreg.predict(X_test.values)\n",
    "\n",
    "#Get confusion matrix\n",
    "cm_logreg = confusion_matrix(y_test, logreg_pred)\n",
    "\n",
    "#Get the costs\n",
    "cost_computation(cm_logreg, costs)"
   ]
  },
  {
   "cell_type": "markdown",
   "id": "senior-protest",
   "metadata": {},
   "source": [
    "### XGBoost Model\n",
    "\n",
    "As mentioned before this model is more complex than Logistic Regression, thus better results are expected"
   ]
  },
  {
   "cell_type": "code",
   "execution_count": 20,
   "id": "retired-harmony",
   "metadata": {},
   "outputs": [
    {
     "data": {
      "text/plain": [
       "'The misclassification cost on this validation set, 25.0% of data, is € 3,178.00'"
      ]
     },
     "execution_count": 20,
     "metadata": {},
     "output_type": "execute_result"
    }
   ],
   "source": [
    "import xgboost as xgb\n",
    "\n",
    "#Extreme Gradient Boosting\n",
    "xgboost = xgb.XGBClassifier(objective = 'binary:logistic', eval_metric = 'aucpr',use_label_encoder = False).fit(X_train.values, y_train.values)\n",
    "xgboost_pred = xgboost.predict(X_test.values)\n",
    "\n",
    "#Get confusion matrix\n",
    "cm_xgboost = confusion_matrix(y_test, xgboost_pred)\n",
    "\n",
    "#Get the costs\n",
    "cost_computation(cm_xgboost, costs)"
   ]
  },
  {
   "cell_type": "markdown",
   "id": "bulgarian-management",
   "metadata": {},
   "source": [
    "The results of Logistic Regression and XGBoots reduced efficaciously the cost, specifically the case of XGBoost. In this fashion another technique will be used to try reducing the costs more."
   ]
  },
  {
   "cell_type": "markdown",
   "id": "random-paradise",
   "metadata": {},
   "source": [
    "## **Dealing with Imbalanced Datasets**"
   ]
  },
  {
   "cell_type": "markdown",
   "id": "instrumental-johns",
   "metadata": {},
   "source": [
    "### Resampling data\n",
    "\n",
    "Resampling the data is one of the most repeated concepts present in the books to solve the problem of imbalancing. There are several techniques to do it such as: sub-sampling the mayority class, over-sampling de minority class (by repeating instances, by repeating instances + a random noise, by creating synthetic instances). From a few kernels, articles (medium, towardsdatascience, kdnuggets), books reviewed a technique that provide great results is the synthetic creation of instances using Synthetic Minority Over-sampling Technique (SMOTE)[1,3,4,5,6,7,8].\n"
   ]
  },
  {
   "cell_type": "code",
   "execution_count": 21,
   "id": "expired-discrimination",
   "metadata": {},
   "outputs": [
    {
     "name": "stdout",
     "output_type": "stream",
     "text": [
      "0    159945\n",
      "1     10500\n",
      "Name: Class, dtype: int64\n"
     ]
    }
   ],
   "source": [
    "#SMOTE\n",
    "from imblearn.over_sampling import SMOTE\n",
    "\n",
    "fraud_weight = round(costs[\"avg_fraud_cost\"] / costs[\"avg_analysis_cost\"], 1)\n",
    "fraud_in_train_set = y_train.sum()\n",
    "\n",
    "sm = SMOTE(random_state=27, sampling_strategy= {1: int(fraud_in_train_set * fraud_weight)})\n",
    "X_train_smote, y_train_smote = sm.fit_resample(X_train, y_train)\n",
    "\n",
    "print(y_train_smote.value_counts())"
   ]
  },
  {
   "cell_type": "markdown",
   "id": "precise-chorus",
   "metadata": {},
   "source": [
    "#### Testing SMOTE on Logistic Regression and XGBoost"
   ]
  },
  {
   "cell_type": "code",
   "execution_count": 22,
   "id": "valid-bracket",
   "metadata": {},
   "outputs": [
    {
     "data": {
      "text/plain": [
       "'The misclassification cost on this validation set, 25.0% of data, is € 2,882.00'"
      ]
     },
     "execution_count": 22,
     "metadata": {},
     "output_type": "execute_result"
    }
   ],
   "source": [
    "#Logistic regression model\n",
    "logreg_sm = LogisticRegression().fit(X_train_smote.values, y_train_smote.values)\n",
    "logreg_sm_pred = logreg_sm.predict(X_test.values)\n",
    "\n",
    "#Get confusion matrix\n",
    "cm_logreg_sm = confusion_matrix(y_test, logreg_sm_pred)\n",
    "\n",
    "#Get the costs\n",
    "cost_computation(cm_logreg_sm, costs)"
   ]
  },
  {
   "cell_type": "code",
   "execution_count": 23,
   "id": "graphic-amino",
   "metadata": {},
   "outputs": [
    {
     "data": {
      "text/plain": [
       "'The misclassification cost on this validation set, 25.0% of data, is € 3,086.00'"
      ]
     },
     "execution_count": 23,
     "metadata": {},
     "output_type": "execute_result"
    }
   ],
   "source": [
    "#Extreme Gradient Boosting\n",
    "xgboost_sm = xgb.XGBClassifier(objective = 'binary:logistic', eval_metric = 'aucpr', use_label_encoder = False).fit(X_train_smote.values,\n",
    "                                                                                      y_train_smote.values)\n",
    "xgboost_sm_pred = xgboost_sm.predict(X_test.values)\n",
    "\n",
    "#Get confusion matrix\n",
    "cm_xgboost_sm = confusion_matrix(y_test, xgboost_sm_pred)\n",
    "\n",
    "#Get the costs\n",
    "cost_computation(cm_xgboost_sm, costs)"
   ]
  },
  {
   "cell_type": "markdown",
   "id": "difficult-recall",
   "metadata": {},
   "source": [
    "Logistic Regression reduced more than a half its cost. On the other side, XGBoost only reduced only a small portion of its cost. Let's try if selecting the best variables can improve the performance of the models."
   ]
  },
  {
   "cell_type": "markdown",
   "id": "compound-latin",
   "metadata": {},
   "source": [
    "## **Improving the Model**"
   ]
  },
  {
   "cell_type": "markdown",
   "id": "paperback-address",
   "metadata": {},
   "source": [
    "### Feature Selection\n",
    "\n",
    "+ The technique used is the Recursive Feature Elimination"
   ]
  },
  {
   "cell_type": "markdown",
   "id": "experienced-express",
   "metadata": {},
   "source": [
    "#### Logistic Regression"
   ]
  },
  {
   "cell_type": "code",
   "execution_count": 24,
   "id": "italic-guinea",
   "metadata": {},
   "outputs": [],
   "source": [
    "#RFE for Logistic Regression\n",
    "from sklearn.feature_selection import RFE\n",
    "\n",
    "rfe_logreg = RFE(estimator=LogisticRegression(), step=1)\n",
    "rfe_logreg.fit(X_train_smote.values, y_train_smote.values)\n",
    "\n",
    "sel_vars = list(X_train_smote.columns[rfe_logreg.support_])"
   ]
  },
  {
   "cell_type": "code",
   "execution_count": 25,
   "id": "incorrect-resident",
   "metadata": {},
   "outputs": [
    {
     "name": "stdout",
     "output_type": "stream",
     "text": [
      "['Time', 'V1', 'V4', 'V5', 'V7', 'V9', 'V10', 'V12', 'V13', 'V14', 'V20', 'V22', 'V26', 'V27', 'Amount']\n"
     ]
    }
   ],
   "source": [
    "#Selected variables\n",
    "print(sel_vars)"
   ]
  },
  {
   "cell_type": "code",
   "execution_count": 26,
   "id": "varied-failure",
   "metadata": {},
   "outputs": [
    {
     "data": {
      "text/plain": [
       "'The misclassification cost on this validation set, 25.0% of data, is € 3,049.00'"
      ]
     },
     "execution_count": 26,
     "metadata": {},
     "output_type": "execute_result"
    }
   ],
   "source": [
    "#Logistic regression model\n",
    "logreg_sm_rfe = LogisticRegression().fit(X_train_smote[sel_vars].values, y_train_smote.values)\n",
    "logreg_sm_rfe_pred = logreg_sm_rfe.predict(X_test[sel_vars].values)\n",
    "\n",
    "#Get confusion matrix\n",
    "cm_logreg_sm_rfe = confusion_matrix(y_test, logreg_sm_rfe_pred)\n",
    "\n",
    "#Get the costs\n",
    "cost_computation(cm_logreg_sm_rfe, costs)"
   ]
  },
  {
   "cell_type": "markdown",
   "id": "compliant-deployment",
   "metadata": {},
   "source": [
    "The selection of variable did not help to improve the cost of the model, it increased a little the cost. "
   ]
  },
  {
   "cell_type": "markdown",
   "id": "handed-spell",
   "metadata": {},
   "source": [
    "#### XGBoost\n",
    "\n",
    "In this case the step was changed to 3, this means that each iteration the technique will try to reduce 3 variables. This was selected because the model takes to much time trainig and the technique has to train the model and get metrics every single iteration."
   ]
  },
  {
   "cell_type": "code",
   "execution_count": 27,
   "id": "amber-today",
   "metadata": {},
   "outputs": [],
   "source": [
    "rfe_xgb = RFE(estimator=xgb.XGBClassifier(objective = 'binary:logistic', eval_metric = 'aucpr',use_label_encoder = False), step=3)\n",
    "rfe_xgb.fit(X_train_smote.values, y_train_smote.values)\n",
    "\n",
    "sel_vars_xgb = list(X_train_smote.columns[rfe_xgb.support_])"
   ]
  },
  {
   "cell_type": "code",
   "execution_count": 28,
   "id": "jewish-feelings",
   "metadata": {},
   "outputs": [
    {
     "data": {
      "text/plain": [
       "'The misclassification cost on this validation set, 25.0% of data, is € 3,113.00'"
      ]
     },
     "execution_count": 28,
     "metadata": {},
     "output_type": "execute_result"
    }
   ],
   "source": [
    "#Extreme Gradient Boosting\n",
    "xgboost_sm_rfe = xgb.XGBClassifier(objective = 'binary:logistic', eval_metric = 'aucpr', use_label_encoder = False).fit(X_train_smote[sel_vars_xgb].values,\n",
    "                                                                                      y_train_smote.values)\n",
    "xgboost_sm_rfe_pred = xgboost_sm_rfe.predict(X_test[sel_vars_xgb].values)\n",
    "\n",
    "#Get confusion matrix\n",
    "cm_xgboost_sm_rfe = confusion_matrix(y_test, xgboost_sm_rfe_pred)\n",
    "\n",
    "#Get the costs\n",
    "cost_computation(cm_xgboost_sm_rfe, costs)"
   ]
  },
  {
   "cell_type": "markdown",
   "id": "studied-sculpture",
   "metadata": {},
   "source": [
    "The same case happened to XGBoost. **Even though both cost of the models did not improve, the selected variables will be kept to reduce the complexity of the models. Recalling the Occam Razor's principle, that the best model is the simplest**[9]. In order to confirm if the feature selection helped, then the same technique can be used with cross-validation. This method is contained in the sklearn library as well. The only disadvantage is that it will take more time for XGBoost to find the best variables, which is out of the scope of this kernel. The following part of the kernel will try to improve the results by tunning the hyperparameters."
   ]
  },
  {
   "cell_type": "markdown",
   "id": "national-hunger",
   "metadata": {},
   "source": [
    "### Hyperparameters tunning"
   ]
  },
  {
   "cell_type": "markdown",
   "id": "thorough-remark",
   "metadata": {},
   "source": [
    "#### Logistic Regression\n",
    "\n",
    "The following code uses gridsearch to find the best parameters for the model. The scoring used was f1 which is the weigthed average of precision and recall. It is better to use precision and recall metrics to evaluate the performance of models using imbalanced datasets[9].\n"
   ]
  },
  {
   "cell_type": "code",
   "execution_count": 29,
   "id": "asian-typing",
   "metadata": {},
   "outputs": [
    {
     "name": "stdout",
     "output_type": "stream",
     "text": [
      "{'C': 0.001, 'penalty': 'l2'}\n"
     ]
    }
   ],
   "source": [
    "from sklearn.model_selection import GridSearchCV\n",
    "\n",
    "# Logistic Regression \n",
    "log_reg_params = {\"penalty\": ['l2'], 'C': [0.001, 0.01, 0.1, 1, 10, 100, 1000], }\n",
    "grid_log_reg = GridSearchCV(LogisticRegression(), log_reg_params, scoring = 'f1',return_train_score = True)\n",
    "grid_log_reg.fit(X_train_smote[sel_vars].values, y_train_smote.values)\n",
    "\n",
    "# We automatically get the logistic regression with the best parameters.\n",
    "logreg_sm_rfe_hyp = grid_log_reg.best_estimator_\n",
    "print(grid_log_reg.best_params_ )"
   ]
  },
  {
   "cell_type": "code",
   "execution_count": 30,
   "id": "filled-timing",
   "metadata": {},
   "outputs": [
    {
     "data": {
      "text/plain": [
       "'The misclassification cost on this validation set, 25.0% of data, is € 2,920.00'"
      ]
     },
     "execution_count": 30,
     "metadata": {},
     "output_type": "execute_result"
    }
   ],
   "source": [
    "#Logistic regression model\n",
    "logreg_sm_rfe_hyp_pred = logreg_sm_rfe_hyp.predict(X_test[sel_vars].values)\n",
    "\n",
    "#Get confusion matrix\n",
    "cm_logreg_sm_rfe_hyp = confusion_matrix(y_test, logreg_sm_rfe_hyp_pred)\n",
    "\n",
    "#Get the costs\n",
    "cost_computation(cm_logreg_sm_rfe_hyp, costs)"
   ]
  },
  {
   "cell_type": "markdown",
   "id": "about-shore",
   "metadata": {},
   "source": [
    "The cost was reduced. Tunning the model improved its performance."
   ]
  },
  {
   "cell_type": "markdown",
   "id": "outstanding-optics",
   "metadata": {},
   "source": [
    "#### XGBoost"
   ]
  },
  {
   "cell_type": "code",
   "execution_count": 31,
   "id": "confused-oregon",
   "metadata": {},
   "outputs": [
    {
     "name": "stdout",
     "output_type": "stream",
     "text": [
      "{'eval_metric': 'aucpr', 'learning_rate': 0.05, 'max_depth': 8, 'n_estimators': 100, 'objective': 'binary:logistic', 'random_state': 17}\n"
     ]
    }
   ],
   "source": [
    "# XGBoost\n",
    "xgb_params = {'learning_rate': [0.05,0.01], #0.05 y 0.01\n",
    "                  'max_depth': [2,8], #8 y 32\n",
    "                  'random_state': [17],\n",
    "                  'n_estimators': [50,100],\n",
    "                  'objective' :  ['binary:logistic'],\n",
    "                  'eval_metric' : ['aucpr']\n",
    "             }\n",
    "grid_xgb = GridSearchCV(xgb.XGBClassifier(use_label_encoder = False), xgb_params, scoring = 'f1')\n",
    "grid_xgb.fit(X_train_smote[sel_vars_xgb].values, y_train_smote.values)\n",
    "\n",
    "print(grid_xgb.best_params_)"
   ]
  },
  {
   "cell_type": "code",
   "execution_count": 32,
   "id": "sporting-invasion",
   "metadata": {},
   "outputs": [
    {
     "name": "stderr",
     "output_type": "stream",
     "text": [
      "C:\\Users\\Milara\\AppData\\Local\\Programs\\Python\\Python39\\lib\\site-packages\\xgboost\\sklearn.py:1146: UserWarning:\n",
      "\n",
      "The use of label encoder in XGBClassifier is deprecated and will be removed in a future release. To remove this warning, do the following: 1) Pass option use_label_encoder=False when constructing XGBClassifier object; and 2) Encode your labels (y) as integers starting with 0, i.e. 0, 1, 2, ..., [num_class - 1].\n",
      "\n"
     ]
    },
    {
     "data": {
      "text/plain": [
       "'The misclassification cost on this validation set, 25.0% of data, is € 2,756.00'"
      ]
     },
     "execution_count": 32,
     "metadata": {},
     "output_type": "execute_result"
    }
   ],
   "source": [
    "#Extreme Gradient Boosting\n",
    "xgboost_sm_rfe_hyp = xgb.XGBClassifier(objective = 'binary:logistic', \n",
    "                                  eval_metric = 'aucpr',\n",
    "                                 learning_rate = 0.05,\n",
    "                                 max_depth = 8 ,\n",
    "                                 n_estimators = 100,\n",
    "                                 random_state = 17).fit(X_train_smote[sel_vars_xgb].values,\n",
    "                                                                      y_train_smote.values)\n",
    "\n",
    "xgboost_sm_rfe_hyp_pred = xgboost_sm_rfe_hyp.predict(X_test[sel_vars_xgb].values)\n",
    "\n",
    "#Get confusion matrix\n",
    "cm_xgboost_sm_rfe_hyp = confusion_matrix(y_test, xgboost_sm_rfe_hyp_pred)\n",
    "\n",
    "#Get the costs\n",
    "cost_computation(cm_xgboost_sm_rfe_hyp, costs)"
   ]
  },
  {
   "cell_type": "markdown",
   "id": "generous-mortality",
   "metadata": {},
   "source": [
    "**For both models the cost was improved.** In the case of XGBoost the tunning of the hyperameters was short, the model has many other paramters than can be tunned, but this is outside of the scope of this kernel because it will take more time and resources to do it."
   ]
  },
  {
   "cell_type": "markdown",
   "id": "marine-thong",
   "metadata": {},
   "source": [
    "## **Understanding the Performance of the Models**"
   ]
  },
  {
   "cell_type": "markdown",
   "id": "strange-brick",
   "metadata": {},
   "source": [
    "### Fitting Curves"
   ]
  },
  {
   "cell_type": "markdown",
   "id": "funded-radio",
   "metadata": {},
   "source": [
    "#### Logistic Regression\n",
    "\n",
    "The fitting curve is used to measure if making more complex the model overfit the data. The goal of the following graphs is to analyse if increasing the complexity of the model makes the model learn completely the training data causing a drop in the score of the metric in the test dataset, in other words to measure the bias-variance trade off.\n",
    "\n",
    "+ In the case of Logistic Regression there is no complexity to be increased, but at least the the regularization parameter can be evaluated. \n",
    "+ It was decided to see the curves for recall and precision because there are the metrics that arise the impact of the FP and FN [9]. "
   ]
  },
  {
   "cell_type": "code",
   "execution_count": 33,
   "id": "extra-toronto",
   "metadata": {},
   "outputs": [],
   "source": [
    "# Logistic Regression \n",
    "scoring_list = ['precision','recall']\n",
    "cv_logreg_sum = pd.DataFrame(data = {\"param_C\": [], \"mean_train_score\":[],\n",
    "                                     \"mean_test_score\":[] ,  \"Scoring\":[]})\n",
    "\n",
    "for elem in scoring_list:\n",
    "    log_reg_params = {\"penalty\": ['l2'], 'C': [0.001, 0.01, 0.1, 1, 10, 100, 1000]}\n",
    "    grid_log_reg = GridSearchCV(LogisticRegression(), log_reg_params, scoring = elem, return_train_score = True)\n",
    "    grid_log_reg.fit(X_train_smote[sel_vars], y_train_smote)\n",
    "    cv_res_logreg = pd.DataFrame(grid_log_reg.cv_results_)\n",
    "    cv_logreg = cv_res_logreg[['param_C','mean_train_score','mean_test_score']]\n",
    "    cv_logreg.insert(0, 'Scoring', elem)\n",
    "    cv_logreg_sum = pd.concat([cv_logreg_sum,cv_logreg], axis = 0)                                 "
   ]
  },
  {
   "cell_type": "code",
   "execution_count": 34,
   "id": "educated-league",
   "metadata": {},
   "outputs": [
    {
     "data": {
      "text/plain": [
       "Text(0.5, 1.0, 'Fitting graph for recall')"
      ]
     },
     "execution_count": 34,
     "metadata": {},
     "output_type": "execute_result"
    },
    {
     "data": {
      "image/png": "[encoded data removed]",
      "text/plain": [
       "<Figure size 1152x288 with 2 Axes>"
      ]
     },
     "metadata": {
      "needs_background": "light"
     },
     "output_type": "display_data"
    }
   ],
   "source": [
    "#Precision Fitting Graph\n",
    "cv_logreg_pre =cv_logreg_sum[cv_logreg_sum['Scoring']=='precision'][['param_C',\n",
    "                                                         'mean_train_score','mean_test_score']]\n",
    "\n",
    "cv_logreg_pre.index =  cv_logreg_pre['param_C']\n",
    "cv_logreg_pre.drop('param_C', axis =1, inplace = True)\n",
    "\n",
    "#Recall Fitting Graph\n",
    "cv_logreg_rec =cv_logreg_sum[cv_logreg_sum['Scoring']=='recall'][['param_C',\n",
    "                                                         'mean_train_score','mean_test_score']]\n",
    "\n",
    "cv_logreg_rec.index =  cv_logreg_rec['param_C']\n",
    "cv_logreg_rec.drop('param_C', axis =1, inplace = True)\n",
    "\n",
    "#Plot both graphs\n",
    "fig, ax = plt.subplots( ncols=2, figsize = (16,4))\n",
    "\n",
    "\n",
    "sns.lineplot(data=cv_logreg_pre,  ax = ax[0])\n",
    "ax[0].set(xscale=\"log\")\n",
    "ax[0].set_ylabel('Mean_score_precision')\n",
    "ax[0].set_title('Fitting graph for precision')\n",
    "\n",
    "\n",
    "sns.lineplot(data=cv_logreg_rec,  ax = ax[1])\n",
    "ax[1].set(xscale=\"log\")\n",
    "ax[1].set_ylabel('Mean_score_recall')\n",
    "ax[1].set_title('Fitting graph for recall')"
   ]
  },
  {
   "cell_type": "markdown",
   "id": "raising-issue",
   "metadata": {},
   "source": [
    "The x axis in both graphs shows the parameter C, if the parameter is close to zero then regularization is stronger. **From both graphs there is no signal of overfitting the data as the C parameter is increased**. Furthermore, it seems to be a trade of between the precision and recall curves. As the paramter increased the precision is reduced and the recall is increased. "
   ]
  },
  {
   "cell_type": "markdown",
   "id": "revolutionary-factor",
   "metadata": {},
   "source": [
    "#### XGBoost"
   ]
  },
  {
   "cell_type": "code",
   "execution_count": 35,
   "id": "dated-skirt",
   "metadata": {},
   "outputs": [],
   "source": [
    "scoring_list = ['precision','recall']\n",
    "cv_xgb_sum = pd.DataFrame(data = {\"param_max_depth\": [], \"mean_train_score\":[],\n",
    "                                     \"mean_test_score\":[] ,  \"Scoring\":[]})\n",
    "\n",
    "xgb_params = {'learning_rate': [0.05], #0.05 y 0.01\n",
    "                  'max_depth': [2,5,10,20,50,100], #8 y 32\n",
    "                  'random_state': [17],\n",
    "                  'n_estimators': [100],\n",
    "                  'objective' :  ['binary:logistic'],\n",
    "                  'eval_metric' : ['aucpr']\n",
    "             }\n",
    "\n",
    "for elem in scoring_list:\n",
    "    grid_xgb = GridSearchCV(xgb.XGBClassifier(use_label_encoder = False), xgb_params, scoring = elem, cv = 2,return_train_score = True)\n",
    "    grid_xgb.fit(X_train_smote[sel_vars_xgb], y_train_smote)\n",
    "    cv_xgb_res = pd.DataFrame(grid_xgb.cv_results_)\n",
    "    cv_xgb = cv_xgb_res[['param_max_depth','mean_train_score','mean_test_score']]\n",
    "    cv_xgb.insert(0, 'Scoring', elem)\n",
    "    cv_xgb_sum = pd.concat([cv_xgb_sum,cv_xgb], axis = 0)  "
   ]
  },
  {
   "cell_type": "code",
   "execution_count": 36,
   "id": "threatened-identifier",
   "metadata": {},
   "outputs": [
    {
     "data": {
      "text/plain": [
       "Text(0.5, 1.0, 'Fitting graph for recall')"
      ]
     },
     "execution_count": 36,
     "metadata": {},
     "output_type": "execute_result"
    },
    {
     "data": {
      "image/png": "[encoded data removed]",
      "text/plain": [
       "<Figure size 1152x288 with 2 Axes>"
      ]
     },
     "metadata": {
      "needs_background": "light"
     },
     "output_type": "display_data"
    }
   ],
   "source": [
    "#Precision Fitting Graph\n",
    "cv_xgb_pre =cv_xgb_sum[cv_xgb_sum['Scoring']=='precision'][['param_max_depth',\n",
    "                                                         'mean_train_score','mean_test_score']]\n",
    "\n",
    "cv_xgb_pre.index =  cv_xgb_pre['param_max_depth']\n",
    "cv_xgb_pre.drop('param_max_depth', axis =1, inplace = True)\n",
    "\n",
    "#Recall Fitting Graph\n",
    "cv_xgb_rec =cv_xgb_sum[cv_xgb_sum['Scoring']=='recall'][['param_max_depth',\n",
    "                                                         'mean_train_score','mean_test_score']]\n",
    "\n",
    "cv_xgb_rec.index =  cv_xgb_rec['param_max_depth']\n",
    "cv_xgb_rec.drop('param_max_depth', axis =1, inplace = True)\n",
    "\n",
    "#Plot both graphs\n",
    "fig, ax = plt.subplots( ncols=2, figsize = (16,4))\n",
    "\n",
    "sns.lineplot(data=cv_xgb_pre,  ax = ax[0])\n",
    "ax[0].set_ylabel('Mean_score_precision')\n",
    "ax[0].set_title('Fitting graph for precision')\n",
    "\n",
    "sns.lineplot(data=cv_xgb_rec,  ax = ax[1])\n",
    "ax[1].set_ylabel('Mean_score_recall')\n",
    "ax[1].set_title('Fitting graph for recall')"
   ]
  },
  {
   "cell_type": "markdown",
   "id": "executed-section",
   "metadata": {},
   "source": [
    "**Both graphs do not show any signal of overfitting, there is no drop of test score due to the increment of the parameter.** This also can be due to the nature of the model that the paramter is the max depth which it does not mean that the model will use all the depth, but in does have an impact because between the 2 to 20 there is an improvement on the metrics. Moreover, there is no trade off between precision and recall. "
   ]
  },
  {
   "cell_type": "markdown",
   "id": "reported-opening",
   "metadata": {},
   "source": [
    "### Learning and Scalability Curves"
   ]
  },
  {
   "cell_type": "code",
   "execution_count": 37,
   "id": "latin-coast",
   "metadata": {},
   "outputs": [],
   "source": [
    "#Function from:\n",
    "#https://scikit-learn.org/stable/auto_examples/model_selection/plot_learning_curve.html#sphx-glr-auto-examples-model-selection-plot-learning-curve-py\n",
    "import matplotlib.pyplot as plt\n",
    "from sklearn.model_selection import learning_curve\n",
    "from sklearn.model_selection import ShuffleSplit\n",
    "\n",
    "\n",
    "def plot_learning_curve(estimator, title, X, y, axes=None, ylim=None, cv=None,\n",
    "                        n_jobs=None, train_sizes=np.linspace(.1, 1.0, 5)):\n",
    "    \"\"\"\n",
    "    Generate 3 plots: the test and training learning curve, the training\n",
    "    samples vs fit times curve, the fit times vs score curve.\n",
    "\n",
    "    Parameters\n",
    "    ----------\n",
    "    estimator : estimator instance\n",
    "        An estimator instance implementing `fit` and `predict` methods which\n",
    "        will be cloned for each validation.\n",
    "\n",
    "    title : str\n",
    "        Title for the chart.\n",
    "\n",
    "    X : array-like of shape (n_samples, n_features)\n",
    "        Training vector, where ``n_samples`` is the number of samples and\n",
    "        ``n_features`` is the number of features.\n",
    "\n",
    "    y : array-like of shape (n_samples) or (n_samples, n_features)\n",
    "        Target relative to ``X`` for classification or regression;\n",
    "        None for unsupervised learning.\n",
    "\n",
    "    axes : array-like of shape (3,), default=None\n",
    "        Axes to use for plotting the curves.\n",
    "\n",
    "    ylim : tuple of shape (2,), default=None\n",
    "        Defines minimum and maximum y-values plotted, e.g. (ymin, ymax).\n",
    "\n",
    "    cv : int, cross-validation generator or an iterable, default=None\n",
    "        Determines the cross-validation splitting strategy.\n",
    "        Possible inputs for cv are:\n",
    "\n",
    "          - None, to use the default 5-fold cross-validation,\n",
    "          - integer, to specify the number of folds.\n",
    "          - :term:`CV splitter`,\n",
    "          - An iterable yielding (train, test) splits as arrays of indices.\n",
    "\n",
    "        For integer/None inputs, if ``y`` is binary or multiclass,\n",
    "        :class:`StratifiedKFold` used. If the estimator is not a classifier\n",
    "        or if ``y`` is neither binary nor multiclass, :class:`KFold` is used.\n",
    "\n",
    "        Refer :ref:`User Guide <cross_validation>` for the various\n",
    "        cross-validators that can be used here.\n",
    "\n",
    "    n_jobs : int or None, default=None\n",
    "        Number of jobs to run in parallel.\n",
    "        ``None`` means 1 unless in a :obj:`joblib.parallel_backend` context.\n",
    "        ``-1`` means using all processors. See :term:`Glossary <n_jobs>`\n",
    "        for more details.\n",
    "\n",
    "    train_sizes : array-like of shape (n_ticks,)\n",
    "        Relative or absolute numbers of training examples that will be used to\n",
    "        generate the learning curve. If the ``dtype`` is float, it is regarded\n",
    "        as a fraction of the maximum size of the training set (that is\n",
    "        determined by the selected validation method), i.e. it has to be within\n",
    "        (0, 1]. Otherwise it is interpreted as absolute sizes of the training\n",
    "        sets. Note that for classification the number of samples usually have\n",
    "        to be big enough to contain at least one sample from each class.\n",
    "        (default: np.linspace(0.1, 1.0, 5))\n",
    "    \"\"\"\n",
    "    if axes is None:\n",
    "        _, axes = plt.subplots(1, 3, figsize=(20, 5))\n",
    "\n",
    "    axes[0].set_title(title)\n",
    "    if ylim is not None:\n",
    "        axes[0].set_ylim(*ylim)\n",
    "    axes[0].set_xlabel(\"Training examples\")\n",
    "    axes[0].set_ylabel(\"Score\")\n",
    "\n",
    "    train_sizes, train_scores, test_scores, fit_times, _ = \\\n",
    "        learning_curve(estimator, X, y, cv=cv, n_jobs=n_jobs,\n",
    "                       train_sizes=train_sizes,\n",
    "                       return_times=True,scoring='f1')\n",
    "    train_scores_mean = np.mean(train_scores, axis=1)\n",
    "    train_scores_std = np.std(train_scores, axis=1)\n",
    "    test_scores_mean = np.mean(test_scores, axis=1)\n",
    "    test_scores_std = np.std(test_scores, axis=1)\n",
    "    fit_times_mean = np.mean(fit_times, axis=1)\n",
    "    fit_times_std = np.std(fit_times, axis=1)\n",
    "\n",
    "    # Plot learning curve\n",
    "    axes[0].grid(b=True)\n",
    "    axes[0].fill_between(train_sizes, train_scores_mean - train_scores_std,\n",
    "                         train_scores_mean + train_scores_std, alpha=0.1,\n",
    "                         color=\"r\")\n",
    "    axes[0].fill_between(train_sizes, test_scores_mean - test_scores_std,\n",
    "                         test_scores_mean + test_scores_std, alpha=0.1,\n",
    "                         color=\"g\")\n",
    "    axes[0].plot(train_sizes, train_scores_mean, 'o-', color=\"r\",\n",
    "                 label=\"Training score\")\n",
    "    axes[0].plot(train_sizes, test_scores_mean, 'o-', color=\"g\",\n",
    "                 label=\"Cross-validation score\")\n",
    "    axes[0].legend(loc=\"best\")\n",
    "\n",
    "    # Plot n_samples vs fit_times\n",
    "    axes[1].grid(b=True)\n",
    "    axes[1].plot(train_sizes, fit_times_mean, 'o-')\n",
    "    axes[1].fill_between(train_sizes, fit_times_mean - fit_times_std,\n",
    "                         fit_times_mean + fit_times_std, alpha=0.1)\n",
    "    axes[1].set_xlabel(\"Training examples\")\n",
    "    axes[1].set_ylabel(\"fit_times\")\n",
    "    axes[1].set_title(\"Scalability of the model\")\n",
    "\n",
    "    # Plot fit_time vs score\n",
    "    axes[2].grid(b=True)\n",
    "    axes[2].plot(fit_times_mean, test_scores_mean, 'o-')\n",
    "    axes[2].fill_between(fit_times_mean, test_scores_mean - test_scores_std,\n",
    "                         test_scores_mean + test_scores_std, alpha=0.1)\n",
    "    axes[2].set_xlabel(\"fit_times\")\n",
    "    axes[2].set_ylabel(\"Score\")\n",
    "    axes[2].set_title(\"Performance of the model\")\n",
    "\n",
    "    return plt\n"
   ]
  },
  {
   "cell_type": "code",
   "execution_count": 38,
   "id": "sticky-principle",
   "metadata": {},
   "outputs": [
    {
     "data": {
      "image/png": "[encoded data removed]",
      "text/plain": [
       "<Figure size 720x1080 with 6 Axes>"
      ]
     },
     "metadata": {
      "needs_background": "light"
     },
     "output_type": "display_data"
    }
   ],
   "source": [
    "#Make the plots, this code takes to run\n",
    "fig, axes = plt.subplots(3, 2, figsize=(10, 15))\n",
    "\n",
    "\n",
    "title = \"Learning Curves (Logistic Regression)\"\n",
    "# Cross validation with 100 iterations to get smoother mean test and train\n",
    "# score curves, each time with 20% data randomly selected as a validation set.\n",
    "cv = ShuffleSplit(n_splits=100, test_size=0.2, random_state=0)\n",
    "                                        \n",
    "plot_learning_curve(LogisticRegression(penalty='l2', C=0.001), title, \n",
    "                    X_train_smote[sel_vars], y_train_smote, axes=axes[:, 0], ylim=(0.7, 1.01),\n",
    "                    cv=cv, n_jobs=4)\n",
    "\n",
    "title = r\"Learning Curves (XGBoost)\"\n",
    "# XGBoost is more expensive so we do a lower number of CV iterations:\n",
    "cv = ShuffleSplit(n_splits=5, test_size=0.2, random_state=0)\n",
    "estimator = xgb.XGBClassifier(objective='binary:logistic',\n",
    "                              max_depth=8,\n",
    "                              n_estimators=100,\n",
    "                              learning_rate=0.05,\n",
    "                              eval_metric='aucpr')\n",
    "plot_learning_curve(estimator, title, X_train_smote[sel_vars_xgb], \n",
    "                    y_train_smote, axes=axes[:, 1], ylim=(0.85, 1.01),\n",
    "                    cv=cv, n_jobs=4)\n",
    "\n",
    "plt.show()"
   ]
  },
  {
   "cell_type": "markdown",
   "id": "sound-badge",
   "metadata": {},
   "source": [
    "    \n",
    "+ From the test and traning learning curves, Logistic Regression needs around 20,000 instances to almost reach its maximum score of f1 but XGBoost seems to be improving the score by adding more data. Furthermore, **XGBoost with 20,000 instances reaches a higher score than Logistic Regression.**\n",
    "+ From the training samples vs fit times, it can be seen that **XGBoost takes more time processing the same number of instances as Logistic Regression**, to process 140,000 instances Logistic Regression takes almost 0.6 seconds while XGBoost requires between 30 to 40 seconds.\n",
    "+ From the fit times vs score, **XGBoost takes far more time to reach it highest score.**\n",
    "+ Functions for plotting the curves obtained from [12].\n",
    "\n",
    "These graphs help to make decision based on the available resources. **If there are plenty resources for computation and time then XGBoost is a good option, but if they are limited then Logistic Regression stills provide nice results.** However, there are other metrics that can be used to select which model is better. The following section finds the threshold that minimizes the cost for both models"
   ]
  },
  {
   "cell_type": "markdown",
   "id": "finnish-container",
   "metadata": {},
   "source": [
    "### Misclassification Cost per threshold\n",
    "\n",
    "Functions for plotting obtained from [1]. The following graphs shows the threshold that minimizes the costs based on the different errors the models generate. This is an ideal method to find the minimum cost."
   ]
  },
  {
   "cell_type": "code",
   "execution_count": 39,
   "id": "statewide-society",
   "metadata": {},
   "outputs": [],
   "source": [
    "def cost_per_threshold(sklearn_classifier, X, y, costs):\n",
    "    \"\"\" return four lists:\n",
    "            1) list of thresholds (defined in this function) \n",
    "            2) count of false negatives (uncaught fraud)\n",
    "            3) count of false positives (overreported transactions)\n",
    "            4) total cost per threshold iteration\n",
    "    \"\"\"\n",
    "    \n",
    "    # shorter variable\n",
    "    clf = sklearn_classifier\n",
    "    \n",
    "    # lists to be passed to plot\n",
    "    thresholds = np.arange(start=0.05, stop=1, step=0.025)\n",
    "    fn, fp = [], []\n",
    "\n",
    "    # looping through thresholds to plot cost curve\n",
    "    for threshold in thresholds:\n",
    "\n",
    "        # custom threshold\n",
    "        y_pred = (clf.predict_proba(X)[:,1] > threshold).astype(int)\n",
    "\n",
    "        # extracting performance indicators\n",
    "        false_positives = confusion_matrix(y, y_pred)[0,1]\n",
    "        false_negatives = confusion_matrix(y, y_pred)[1,0]\n",
    "\n",
    "        # add to lists\n",
    "        fp.append(false_positives)\n",
    "        fn.append(false_negatives)\n",
    "\n",
    "    # convert to numpy arrays\n",
    "    fp = np.asarray(fp)\n",
    "    fn = np.asarray(fn)\n",
    "    c = cost_eq(fp, fn, costs)\n",
    "    \n",
    "    # return values\n",
    "    return thresholds, fp, fn, c"
   ]
  },
  {
   "cell_type": "code",
   "execution_count": 40,
   "id": "small-minimum",
   "metadata": {},
   "outputs": [],
   "source": [
    "def plot_misclassification(thresholds, fp, fn, c):\n",
    "    \n",
    "    # two y-axes sharing the same plot\n",
    "    fig, (left, right) = plt.subplots(nrows=1, ncols=2, figsize=(15, 5))\n",
    "\n",
    "    \"\"\" LEFT PLOT \"\"\"\n",
    "    left.title.set_text('Misclassification Counts')\n",
    "\n",
    "    # 1st y-axis\n",
    "    color = 'tab:orange'\n",
    "    left.set_xlabel('threshold')\n",
    "    left.set_ylabel('false positives', color=color)\n",
    "    left.plot(thresholds, fp, color=color)\n",
    "    left.tick_params(axis='y', labelcolor=color)\n",
    "\n",
    "    # 2nd y-axis\n",
    "    left_2nd_y = left.twinx() # share the same x-axis\n",
    "    color = 'tab:red'\n",
    "    left_2nd_y.set_ylabel('false negatives', color=color) \n",
    "    left_2nd_y.plot(thresholds, fn, color=color)\n",
    "    left_2nd_y.tick_params(axis='y', labelcolor=color)\n",
    "\n",
    "\n",
    "    \"\"\" RIGHT PLOT \"\"\"\n",
    "    right .title.set_text('Misclassification Costs')\n",
    "\n",
    "    # plotting costs\n",
    "    color = 'tab:blue'\n",
    "    right.set_xlabel('threshold')\n",
    "    right.set_ylabel('total ($)', color=color)\n",
    "    right.plot(thresholds, c, color=color)\n",
    "    right.tick_params(axis='y', labelcolor=color)\n",
    "\n",
    "    \n",
    "    \"\"\" ANNOTATE \"\"\"\n",
    "    # calculate minimum cost threshold\n",
    "    optimal_threshold = min(zip(thresholds, c), key=lambda t: t[1])\n",
    "    optimal_threshold_index = np.where(thresholds==optimal_threshold[0])[0] \n",
    "    optimal_threshold_fp = fp[optimal_threshold_index]\n",
    "    optimal_threshold_fn = fn[optimal_threshold_index]\n",
    "    \n",
    "    right.plot(*optimal_threshold, 'go');\n",
    "    \n",
    "    # display cost optimum\n",
    "    print(f'The cost minimum occurs at threshold {optimal_threshold[0]:.3f}, where the misclassification are as follows')\n",
    "    print(f'    False positives: {optimal_threshold_fp}')\n",
    "    print(f'    False negatives: {optimal_threshold_fn}')\n",
    "    print('')\n",
    "    print(f'Misclassification costs on test sample: {optimal_threshold[1]:,.2f}')\n",
    "    print(f'Extrapolated daily cost: {optimal_threshold[1]/TEST_RATIO/2:,.2f}')\n",
    "    \n",
    "    \"\"\" DISPLAY \"\"\"\n",
    "    # prevent clipping and overlap between graphs\n",
    "    fig.tight_layout()  \n",
    "    plt.show();\n",
    "    return optimal_threshold[0]"
   ]
  },
  {
   "cell_type": "code",
   "execution_count": 41,
   "id": "impaired-cigarette",
   "metadata": {},
   "outputs": [],
   "source": [
    "TEST_RATIO = costs['test_ratio']"
   ]
  },
  {
   "cell_type": "markdown",
   "id": "advance-people",
   "metadata": {},
   "source": [
    "#### Logistic Regression"
   ]
  },
  {
   "cell_type": "code",
   "execution_count": 42,
   "id": "chicken-disclaimer",
   "metadata": {},
   "outputs": [
    {
     "name": "stderr",
     "output_type": "stream",
     "text": [
      "C:\\Users\\Milara\\AppData\\Local\\Programs\\Python\\Python39\\lib\\site-packages\\sklearn\\base.py:434: UserWarning:\n",
      "\n",
      "X has feature names, but LogisticRegression was fitted without feature names\n",
      "\n",
      "C:\\Users\\Milara\\AppData\\Local\\Programs\\Python\\Python39\\lib\\site-packages\\sklearn\\base.py:434: UserWarning:\n",
      "\n",
      "X has feature names, but LogisticRegression was fitted without feature names\n",
      "\n",
      "C:\\Users\\Milara\\AppData\\Local\\Programs\\Python\\Python39\\lib\\site-packages\\sklearn\\base.py:434: UserWarning:\n",
      "\n",
      "X has feature names, but LogisticRegression was fitted without feature names\n",
      "\n",
      "C:\\Users\\Milara\\AppData\\Local\\Programs\\Python\\Python39\\lib\\site-packages\\sklearn\\base.py:434: UserWarning:\n",
      "\n",
      "X has feature names, but LogisticRegression was fitted without feature names\n",
      "\n",
      "C:\\Users\\Milara\\AppData\\Local\\Programs\\Python\\Python39\\lib\\site-packages\\sklearn\\base.py:434: UserWarning:\n",
      "\n",
      "X has feature names, but LogisticRegression was fitted without feature names\n",
      "\n",
      "C:\\Users\\Milara\\AppData\\Local\\Programs\\Python\\Python39\\lib\\site-packages\\sklearn\\base.py:434: UserWarning:\n",
      "\n",
      "X has feature names, but LogisticRegression was fitted without feature names\n",
      "\n",
      "C:\\Users\\Milara\\AppData\\Local\\Programs\\Python\\Python39\\lib\\site-packages\\sklearn\\base.py:434: UserWarning:\n",
      "\n",
      "X has feature names, but LogisticRegression was fitted without feature names\n",
      "\n",
      "C:\\Users\\Milara\\AppData\\Local\\Programs\\Python\\Python39\\lib\\site-packages\\sklearn\\base.py:434: UserWarning:\n",
      "\n",
      "X has feature names, but LogisticRegression was fitted without feature names\n",
      "\n",
      "C:\\Users\\Milara\\AppData\\Local\\Programs\\Python\\Python39\\lib\\site-packages\\sklearn\\base.py:434: UserWarning:\n",
      "\n",
      "X has feature names, but LogisticRegression was fitted without feature names\n",
      "\n",
      "C:\\Users\\Milara\\AppData\\Local\\Programs\\Python\\Python39\\lib\\site-packages\\sklearn\\base.py:434: UserWarning:\n",
      "\n",
      "X has feature names, but LogisticRegression was fitted without feature names\n",
      "\n",
      "C:\\Users\\Milara\\AppData\\Local\\Programs\\Python\\Python39\\lib\\site-packages\\sklearn\\base.py:434: UserWarning:\n",
      "\n",
      "X has feature names, but LogisticRegression was fitted without feature names\n",
      "\n",
      "C:\\Users\\Milara\\AppData\\Local\\Programs\\Python\\Python39\\lib\\site-packages\\sklearn\\base.py:434: UserWarning:\n",
      "\n",
      "X has feature names, but LogisticRegression was fitted without feature names\n",
      "\n",
      "C:\\Users\\Milara\\AppData\\Local\\Programs\\Python\\Python39\\lib\\site-packages\\sklearn\\base.py:434: UserWarning:\n",
      "\n",
      "X has feature names, but LogisticRegression was fitted without feature names\n",
      "\n",
      "C:\\Users\\Milara\\AppData\\Local\\Programs\\Python\\Python39\\lib\\site-packages\\sklearn\\base.py:434: UserWarning:\n",
      "\n",
      "X has feature names, but LogisticRegression was fitted without feature names\n",
      "\n",
      "C:\\Users\\Milara\\AppData\\Local\\Programs\\Python\\Python39\\lib\\site-packages\\sklearn\\base.py:434: UserWarning:\n",
      "\n",
      "X has feature names, but LogisticRegression was fitted without feature names\n",
      "\n",
      "C:\\Users\\Milara\\AppData\\Local\\Programs\\Python\\Python39\\lib\\site-packages\\sklearn\\base.py:434: UserWarning:\n",
      "\n",
      "X has feature names, but LogisticRegression was fitted without feature names\n",
      "\n",
      "C:\\Users\\Milara\\AppData\\Local\\Programs\\Python\\Python39\\lib\\site-packages\\sklearn\\base.py:434: UserWarning:\n",
      "\n",
      "X has feature names, but LogisticRegression was fitted without feature names\n",
      "\n",
      "C:\\Users\\Milara\\AppData\\Local\\Programs\\Python\\Python39\\lib\\site-packages\\sklearn\\base.py:434: UserWarning:\n",
      "\n",
      "X has feature names, but LogisticRegression was fitted without feature names\n",
      "\n",
      "C:\\Users\\Milara\\AppData\\Local\\Programs\\Python\\Python39\\lib\\site-packages\\sklearn\\base.py:434: UserWarning:\n",
      "\n",
      "X has feature names, but LogisticRegression was fitted without feature names\n",
      "\n",
      "C:\\Users\\Milara\\AppData\\Local\\Programs\\Python\\Python39\\lib\\site-packages\\sklearn\\base.py:434: UserWarning:\n",
      "\n",
      "X has feature names, but LogisticRegression was fitted without feature names\n",
      "\n",
      "C:\\Users\\Milara\\AppData\\Local\\Programs\\Python\\Python39\\lib\\site-packages\\sklearn\\base.py:434: UserWarning:\n",
      "\n",
      "X has feature names, but LogisticRegression was fitted without feature names\n",
      "\n",
      "C:\\Users\\Milara\\AppData\\Local\\Programs\\Python\\Python39\\lib\\site-packages\\sklearn\\base.py:434: UserWarning:\n",
      "\n",
      "X has feature names, but LogisticRegression was fitted without feature names\n",
      "\n",
      "C:\\Users\\Milara\\AppData\\Local\\Programs\\Python\\Python39\\lib\\site-packages\\sklearn\\base.py:434: UserWarning:\n",
      "\n",
      "X has feature names, but LogisticRegression was fitted without feature names\n",
      "\n",
      "C:\\Users\\Milara\\AppData\\Local\\Programs\\Python\\Python39\\lib\\site-packages\\sklearn\\base.py:434: UserWarning:\n",
      "\n",
      "X has feature names, but LogisticRegression was fitted without feature names\n",
      "\n",
      "C:\\Users\\Milara\\AppData\\Local\\Programs\\Python\\Python39\\lib\\site-packages\\sklearn\\base.py:434: UserWarning:\n",
      "\n",
      "X has feature names, but LogisticRegression was fitted without feature names\n",
      "\n",
      "C:\\Users\\Milara\\AppData\\Local\\Programs\\Python\\Python39\\lib\\site-packages\\sklearn\\base.py:434: UserWarning:\n",
      "\n",
      "X has feature names, but LogisticRegression was fitted without feature names\n",
      "\n",
      "C:\\Users\\Milara\\AppData\\Local\\Programs\\Python\\Python39\\lib\\site-packages\\sklearn\\base.py:434: UserWarning:\n",
      "\n",
      "X has feature names, but LogisticRegression was fitted without feature names\n",
      "\n",
      "C:\\Users\\Milara\\AppData\\Local\\Programs\\Python\\Python39\\lib\\site-packages\\sklearn\\base.py:434: UserWarning:\n",
      "\n",
      "X has feature names, but LogisticRegression was fitted without feature names\n",
      "\n",
      "C:\\Users\\Milara\\AppData\\Local\\Programs\\Python\\Python39\\lib\\site-packages\\sklearn\\base.py:434: UserWarning:\n",
      "\n",
      "X has feature names, but LogisticRegression was fitted without feature names\n",
      "\n",
      "C:\\Users\\Milara\\AppData\\Local\\Programs\\Python\\Python39\\lib\\site-packages\\sklearn\\base.py:434: UserWarning:\n",
      "\n",
      "X has feature names, but LogisticRegression was fitted without feature names\n",
      "\n",
      "C:\\Users\\Milara\\AppData\\Local\\Programs\\Python\\Python39\\lib\\site-packages\\sklearn\\base.py:434: UserWarning:\n",
      "\n",
      "X has feature names, but LogisticRegression was fitted without feature names\n",
      "\n",
      "C:\\Users\\Milara\\AppData\\Local\\Programs\\Python\\Python39\\lib\\site-packages\\sklearn\\base.py:434: UserWarning:\n",
      "\n",
      "X has feature names, but LogisticRegression was fitted without feature names\n",
      "\n",
      "C:\\Users\\Milara\\AppData\\Local\\Programs\\Python\\Python39\\lib\\site-packages\\sklearn\\base.py:434: UserWarning:\n",
      "\n",
      "X has feature names, but LogisticRegression was fitted without feature names\n",
      "\n",
      "C:\\Users\\Milara\\AppData\\Local\\Programs\\Python\\Python39\\lib\\site-packages\\sklearn\\base.py:434: UserWarning:\n",
      "\n",
      "X has feature names, but LogisticRegression was fitted without feature names\n",
      "\n",
      "C:\\Users\\Milara\\AppData\\Local\\Programs\\Python\\Python39\\lib\\site-packages\\sklearn\\base.py:434: UserWarning:\n",
      "\n",
      "X has feature names, but LogisticRegression was fitted without feature names\n",
      "\n",
      "C:\\Users\\Milara\\AppData\\Local\\Programs\\Python\\Python39\\lib\\site-packages\\sklearn\\base.py:434: UserWarning:\n",
      "\n",
      "X has feature names, but LogisticRegression was fitted without feature names\n",
      "\n",
      "C:\\Users\\Milara\\AppData\\Local\\Programs\\Python\\Python39\\lib\\site-packages\\sklearn\\base.py:434: UserWarning:\n",
      "\n",
      "X has feature names, but LogisticRegression was fitted without feature names\n",
      "\n",
      "C:\\Users\\Milara\\AppData\\Local\\Programs\\Python\\Python39\\lib\\site-packages\\sklearn\\base.py:434: UserWarning:\n",
      "\n",
      "X has feature names, but LogisticRegression was fitted without feature names\n",
      "\n"
     ]
    },
    {
     "name": "stdout",
     "output_type": "stream",
     "text": [
      "The cost minimum occurs at threshold 0.375, where the misclassification are as follows\n",
      "    False positives: [65]\n",
      "    False negatives: [22]\n",
      "\n",
      "Misclassification costs on test sample: 2,879.00\n",
      "Extrapolated daily cost: 5,758.00\n"
     ]
    },
    {
     "data": {
      "image/png": "[encoded data removed]",
      "text/plain": [
       "<Figure size 1080x360 with 3 Axes>"
      ]
     },
     "metadata": {},
     "output_type": "display_data"
    }
   ],
   "source": [
    "# compute results at each threshold level\n",
    "thresholds, fp, fn, c = cost_per_threshold(logreg_sm_rfe_hyp, X_test[sel_vars], y_test, costs)\n",
    "\n",
    "# visualise them\n",
    "logreg_best_thres = plot_misclassification(thresholds, fp, fn, c)"
   ]
  },
  {
   "cell_type": "markdown",
   "id": "printable-literature",
   "metadata": {},
   "source": [
    "#### XGBoost"
   ]
  },
  {
   "cell_type": "code",
   "execution_count": 43,
   "id": "registered-metadata",
   "metadata": {},
   "outputs": [
    {
     "name": "stdout",
     "output_type": "stream",
     "text": [
      "The cost minimum occurs at threshold 0.525, where the misclassification are as follows\n",
      "    False positives: [21]\n",
      "    False negatives: [22]\n",
      "\n",
      "Misclassification costs on test sample: 2,747.00\n",
      "Extrapolated daily cost: 5,494.00\n"
     ]
    },
    {
     "data": {
      "image/png": "[encoded data removed]",
      "text/plain": [
       "<Figure size 1080x360 with 3 Axes>"
      ]
     },
     "metadata": {},
     "output_type": "display_data"
    }
   ],
   "source": [
    "# compute results at each threshold level\n",
    "thresholds, fp, fn, c = cost_per_threshold(xgboost_sm_rfe_hyp, X_test[sel_vars_xgb], y_test, costs)\n",
    "\n",
    "# visualise them\n",
    "xgb_best_thres = plot_misclassification(thresholds, fp, fn, c)"
   ]
  },
  {
   "cell_type": "markdown",
   "id": "magnetic-journey",
   "metadata": {},
   "source": [
    "### Cost/Profit Curves\n",
    "\n",
    "**This kind of plot helps to determine which model to use when there is restriction on budget**. The graph is computed as following:\n",
    "\n",
    "- The probabities of being the positive class is calculated for the instances of the test data using model.predict_proba \n",
    "- The probabilities are sorted in descending order, meaning that the first instances are the ones with the highest probability of being the positive class (a fraud)\n",
    "- Then the probabilities are used to assign the class of the instances based on a threshold (already computed)\n",
    "- Then the FP and FN errors are calculated\n",
    "- Finally, the cummulative cost is computed. The cummulative cost helps to understand the loss if the selection of instances (based on their probabilites) are targeted in order.\n",
    "- The x axis shows the number of instances and the y axis shows the cummulative cost\n",
    "\n",
    "**The goal of the plot is to select the model that uses better the budget.** \n"
   ]
  },
  {
   "cell_type": "code",
   "execution_count": 44,
   "id": "distributed-momentum",
   "metadata": {},
   "outputs": [],
   "source": [
    "def error_cost(y_pred,y_test,costs):\n",
    "    \"\"\"\n",
    "    Returns the costs of the error\n",
    "    \n",
    "    Parameters:\n",
    "    -----------\n",
    "    y_pred: classes estimated by the classifier\n",
    "    y_test: actual classes\n",
    "    costs: costs of the errors\n",
    "    \"\"\"\n",
    "    if y_pred == 1 and y_test == 1:\n",
    "        return costs['avg_analysis_cost']\n",
    "    if y_pred == 1 and y_test==0:\n",
    "        return costs['avg_analysis_cost']\n",
    "    elif y_pred== 0 and y_test==1:\n",
    "        return costs['avg_fraud_cost'] \n",
    "    else:\n",
    "        return 0\n",
    "    \n",
    "def compute_cost_df(y_proba,y_test,best_thres,costs):\n",
    "    \"\"\"\n",
    "    Generates a df with the cummulative cost of the errors\n",
    "    \n",
    "    Parameters:\n",
    "    ------------\n",
    "    y_proba: array with the probabilities of X_test given by an estimator\n",
    "    y_test: array with the actual values of y\n",
    "    best_thres: int best threshold to define a binary outcome\n",
    "    costs: dict with the costs of the errors\n",
    "    \"\"\"\n",
    "    #Build the df for the cost curve\n",
    "    df_cost_curve = pd.DataFrame({'y_proba':y_proba, \n",
    "                                         'y_pred': np.where(y_proba > best_thres,1,0),\n",
    "                                         'y_test':y_test})\n",
    "\n",
    "    #Sort df by probability\n",
    "    df_cost_curve = df_cost_curve.sort_values(by='y_proba'\n",
    "                                                            , ascending = False).reset_index().drop('index', axis =1)\n",
    "\n",
    "    #Compute the cost of each error\n",
    "    df_cost_curve['cost'] = df_cost_curve.apply(lambda x: error_cost(x.y_pred, x.y_test,costs), axis=1)\n",
    "\n",
    "    #Compute the cummulative sum of the costs\n",
    "    df_cost_curve['cum_cost'] = df_cost_curve['cost'].cumsum(axis=0)\n",
    "    \n",
    "    return df_cost_curve"
   ]
  },
  {
   "cell_type": "markdown",
   "id": "revised-assault",
   "metadata": {},
   "source": [
    "#### Logistic Regression curve computation"
   ]
  },
  {
   "cell_type": "code",
   "execution_count": 45,
   "id": "green-sheep",
   "metadata": {},
   "outputs": [
    {
     "name": "stdout",
     "output_type": "stream",
     "text": [
      "0.3750000000000001\n"
     ]
    }
   ],
   "source": [
    "#Threshold from previous analysis\n",
    "print(logreg_best_thres)\n",
    "\n",
    "#Get the probabilities for each instance based on the estimator\n",
    "logreg_y_proba = logreg_sm_rfe_hyp.predict_proba(X_test[sel_vars].values)[:,1]\n",
    "\n",
    "df_logreg_thrs_cost_curve = compute_cost_df(logreg_y_proba,y_test,logreg_best_thres,costs)"
   ]
  },
  {
   "cell_type": "markdown",
   "id": "thick-brick",
   "metadata": {},
   "source": [
    "#### XGBoosting computation"
   ]
  },
  {
   "cell_type": "code",
   "execution_count": 46,
   "id": "decreased-tradition",
   "metadata": {},
   "outputs": [
    {
     "name": "stdout",
     "output_type": "stream",
     "text": [
      "0.5250000000000001\n"
     ]
    }
   ],
   "source": [
    "#Threshold from previous analysis\n",
    "print(xgb_best_thres)\n",
    "\n",
    "#Get the probabilities for each instance based on the estimator\n",
    "xgb_y_proba = xgboost_sm_rfe_hyp.predict_proba(X_test[sel_vars_xgb].values)[:,1]\n",
    "\n",
    "df_xgboost_thrs_cost_curve = compute_cost_df(xgb_y_proba,y_test,xgb_best_thres,costs)"
   ]
  },
  {
   "cell_type": "markdown",
   "id": "billion-coordinator",
   "metadata": {},
   "source": [
    "#### Plot Cost Curves"
   ]
  },
  {
   "cell_type": "code",
   "execution_count": 47,
   "id": "former-shanghai",
   "metadata": {},
   "outputs": [
    {
     "data": {
      "image/png": "[encoded data removed]",
      "text/plain": [
       "<Figure size 1080x504 with 1 Axes>"
      ]
     },
     "metadata": {
      "needs_background": "light"
     },
     "output_type": "display_data"
    }
   ],
   "source": [
    "_, axes = plt.subplots(figsize=(15, 7))\n",
    "\n",
    "instances=np.arange(0, len(y_test))\n",
    "\n",
    "axes.set_title(\"Cost Curve\")\n",
    "axes.set_xlabel(\"Test Instances\")\n",
    "axes.set_ylabel(\"Cost €\")\n",
    "axes.grid(b=True)\n",
    "axes.plot(instances, df_logreg_thrs_cost_curve['cum_cost'].values, '-', color=\"r\",label=\"Logistic Regression Cost\")\n",
    "axes.plot(instances, df_xgboost_thrs_cost_curve['cum_cost'].values, '-', color=\"g\",label=\"XGBoost Cost\")\n",
    "axes.legend(loc=\"best\")\n",
    "\n",
    "\n",
    "plt.show()"
   ]
  },
  {
   "cell_type": "markdown",
   "id": "blank-subject",
   "metadata": {},
   "source": [
    "**The plot shows that both models behave similarly**. At the end they generate similar costs after analyzing more than 7,000 instances never seen before. So, in this case any model would work, so the decision could be based on other metric relevant for the business such as computation cost. However, to clarify the idea of the plot the next section shows the comparison of all the models generated in this kernel. Furthermore the following section shows the curves for all of the models generated in this notebook."
   ]
  },
  {
   "cell_type": "markdown",
   "id": "diverse-paragraph",
   "metadata": {},
   "source": [
    "### Cost curves for all models\n",
    "\n",
    "The goal of this plot is to compare the performances of the models that were improved gradually.\n"
   ]
  },
  {
   "cell_type": "code",
   "execution_count": 48,
   "id": "maritime-offense",
   "metadata": {},
   "outputs": [],
   "source": [
    "#Dummy model \n",
    "dummy_proba = dummy.predict_proba(X_test.values)[:,1]\n",
    "df_dummy_cost_curve = compute_cost_df(dummy_proba,y_test,0.5,costs)\n",
    "\n",
    "#Simple Logistic Regression\n",
    "logreg_proba = logreg.predict_proba(X_test.values)[:,1]\n",
    "df_logreg_cost_curve = compute_cost_df(logreg_proba,y_test,0.5,costs)\n",
    "\n",
    "#Simple XGBoost\n",
    "xgboost_proba = xgboost.predict_proba(X_test.values)[:,1]\n",
    "df_xgboost_cost_curve = compute_cost_df(xgboost_proba,y_test,0.5,costs)\n",
    "\n",
    "#SMOTE Logistic Regression\n",
    "logreg_sm_proba = logreg_sm.predict_proba(X_test.values)[:,1]\n",
    "df_logreg_sm_cost_curve = compute_cost_df(logreg_sm_proba,y_test,0.5,costs)\n",
    "\n",
    "#SMOTE XGBoost \n",
    "xgboost_sm_proba = xgboost_sm.predict_proba(X_test.values)[:,1]\n",
    "df_xgboost_sm_cost_curve = compute_cost_df(xgboost_sm_proba,y_test,0.5,costs)\n",
    "\n",
    "#SMOTE RFE Logistic Regression\n",
    "logreg_sm_rfe_proba = logreg_sm_rfe.predict_proba(X_test[sel_vars].values)[:,1]\n",
    "df_logreg_sm_rfe_cost_curve = compute_cost_df(logreg_sm_rfe_proba,y_test,0.5,costs)\n",
    "\n",
    "#SMOTE RFE XGBoost\n",
    "xgboost_sm_rfe_proba = xgboost_sm_rfe.predict_proba(X_test[sel_vars_xgb].values)[:,1]\n",
    "df_xgboost_sm_rfe_cost_curve = compute_cost_df(xgboost_sm_rfe_proba,y_test,0.5,costs)\n",
    "\n",
    "#SMOTE RFE HYP Logistic Regression\n",
    "logreg_sm_rfe_hyp_proba = logreg_sm_rfe_hyp.predict_proba(X_test[sel_vars].values)[:,1]\n",
    "df_logreg_sm_rfe_hyp_cost_curve = compute_cost_df(logreg_sm_rfe_hyp_proba,y_test,0.5,costs)\n",
    "\n",
    "#SMOTE RFE HYP XGBoost\n",
    "xgboost_sm_rfe_hyp_proba = xgboost_sm_rfe_hyp.predict_proba(X_test[sel_vars_xgb].values)[:,1]\n",
    "df_xgboost_sm_rfe_hyp_cost_curve = compute_cost_df(xgboost_sm_rfe_hyp_proba,y_test,0.5,costs)"
   ]
  },
  {
   "cell_type": "code",
   "execution_count": 49,
   "id": "dramatic-substitute",
   "metadata": {},
   "outputs": [
    {
     "data": {
      "text/plain": [
       "'\\ndf_tmp = pd.DataFrame({\\'dummy_proba\\':dummy_proba,\\n                      \\'logreg_proba\\':logreg_proba,\\n                      \\'xgboost_proba\\': xgboost_proba,\\n                      \\'logreg_sm_proba\\':logreg_sm_proba,\\n                      \\'xgboost_sm_proba\\': xgboost_sm_proba,\\n                      \\'logreg_sm_rfe_proba\\':logreg_sm_rfe_proba,\\n                      \\'xgboost_sm_rfe_proba\\':xgboost_sm_rfe_proba,\\n                      \\'logreg_sm_rfe_hyp_proba\\': logreg_sm_rfe_hyp_proba,\\n                      \\'xgboost_sm_rfe_hyp_proba\\':xgboost_sm_rfe_hyp_proba,\\n                       \\'xgb_y_proba\\':xgb_y_proba,\\n                      \\'y_test\\':y_test})\\n\\ndf_tmp.to_csv(\"C:/Users/Milara/Desktop/New Projects/FraudDetection/model_results_v1.csv\", encoding=\"ISO-8859-1\", index = False)\\n'"
      ]
     },
     "execution_count": 49,
     "metadata": {},
     "output_type": "execute_result"
    }
   ],
   "source": [
    "#Store the results of the model in a csv for further analysis\n",
    "\"\"\"\n",
    "df_tmp = pd.DataFrame({'dummy_proba':dummy_proba,\n",
    "                      'logreg_proba':logreg_proba,\n",
    "                      'xgboost_proba': xgboost_proba,\n",
    "                      'logreg_sm_proba':logreg_sm_proba,\n",
    "                      'xgboost_sm_proba': xgboost_sm_proba,\n",
    "                      'logreg_sm_rfe_proba':logreg_sm_rfe_proba,\n",
    "                      'xgboost_sm_rfe_proba':xgboost_sm_rfe_proba,\n",
    "                      'logreg_sm_rfe_hyp_proba': logreg_sm_rfe_hyp_proba,\n",
    "                      'xgboost_sm_rfe_hyp_proba':xgboost_sm_rfe_hyp_proba,\n",
    "                       'xgb_y_proba':xgb_y_proba,\n",
    "                      'y_test':y_test})\n",
    "\n",
    "df_tmp.to_csv(\"C:/Users/Milara/Desktop/New Projects/FraudDetection/model_results_v1.csv\", encoding=\"ISO-8859-1\", index = False)\n",
    "\"\"\""
   ]
  },
  {
   "cell_type": "code",
   "execution_count": 50,
   "id": "otherwise-flavor",
   "metadata": {},
   "outputs": [
    {
     "data": {
      "image/png": "[encoded data removed]",
      "text/plain": [
       "<Figure size 1080x504 with 1 Axes>"
      ]
     },
     "metadata": {
      "needs_background": "light"
     },
     "output_type": "display_data"
    }
   ],
   "source": [
    "_, axes = plt.subplots(figsize=(15, 7))\n",
    "\n",
    "instances=np.arange(0, 1, (1/len(y_test)))\n",
    "\n",
    "axes.set_title(\"Cost Curve\")\n",
    "axes.set_xlabel(\"Proportion of test instances\")\n",
    "axes.set_ylabel(\"Cost €\")\n",
    "axes.grid(b=True)\n",
    "\n",
    "axes.plot(instances, df_dummy_cost_curve['cum_cost'].values, '-', color=\"violet\",label=\"Dummy (simple) Cost\")\n",
    "\n",
    "axes.plot(instances, df_logreg_cost_curve['cum_cost'].values, '-', color=\"red\",label=\"Logistic Regression (simple) Cost\")\n",
    "axes.plot(instances, df_logreg_sm_cost_curve['cum_cost'].values, '-', color=\"purple\",label=\"Logistic Regression (smote) Cost\")\n",
    "axes.plot(instances, df_logreg_sm_rfe_cost_curve['cum_cost'].values, '-', color=\"green\",label=\"Logistic Regression (rfe) Cost\")\n",
    "axes.plot(instances, df_logreg_sm_rfe_hyp_cost_curve['cum_cost'].values, '-', color=\"blue\",label=\"Logistic Regression (hyp) Cost\")\n",
    "axes.plot(instances, df_logreg_thrs_cost_curve['cum_cost'].values, '-', color=\"black\",label=\"Logistic Regression (threshold) Cost\")\n",
    "\n",
    "axes.plot(instances, df_xgboost_cost_curve['cum_cost'].values, '-', color=\"cyan\",label=\"XGBoost (simple) Cost\")\n",
    "axes.plot(instances, df_xgboost_sm_cost_curve['cum_cost'].values, '-', color=\"olive\",label=\"XGBoost (smote) Cost\")\n",
    "axes.plot(instances, df_xgboost_sm_rfe_cost_curve['cum_cost'].values, '-', color=\"pink\",label=\"XGBoost (rfe) Cost\")\n",
    "axes.plot(instances, df_xgboost_sm_rfe_hyp_cost_curve['cum_cost'].values, '-', color=\"brown\",label=\"XGBoost (hyp) Cost\")\n",
    "axes.plot(instances, df_xgboost_thrs_cost_curve['cum_cost'].values, '-', color=\"darkred\",label=\"XGBoost (threshold) Cost\")\n",
    "\n",
    "axes.legend(loc=\"best\")\n",
    "#axes.set_xlim(0,6200)\n",
    "axes.set_ylim(0,6200)\n",
    "plt.show()"
   ]
  },
  {
   "cell_type": "markdown",
   "id": "private-flavor",
   "metadata": {},
   "source": [
    "The graph above shows the gradual improvement for both models. Specifically it can be seen that:\n",
    "\n",
    "+ The dummy model surpasses the cost of € 6,000 after the 3,000 instance\n",
    "+ The Logistic Regression (simple) improved dramatically the performance of the Dummy model\n",
    "+ XGBoost (simple) is in the range of the tunned models, meaning that it is very powerfull even without improvements\n",
    "+ Logistic Regression (smote) improved from € 6,000 to below € 4,000\n",
    "+ Tunning XGBoost improved the perfomance less than tunning the Logistic Regression\n",
    "+ Most of the models with improvements are in the range of € 3,000 to € 4,000\n",
    "\n",
    "\n",
    "**Therefore, if there is a budget constraint to only spend € 3,000 then the best model would be XGBoost (threshold). If the budget is € 4,000 then Logistic Regression (smote) is the best option because it requires less steps to be trained.**"
   ]
  },
  {
   "cell_type": "markdown",
   "id": "molecular-canada",
   "metadata": {},
   "source": [
    "## **Feature Importance**\n",
    "\n",
    "Finally, to understand how the models do what they do it is important to obtain the importance of each variable for the model. In the case of the best model generated, which was the XGBoost (threshold), it is easy to retrieve the this. The plot below shows the ranking assigned to the variables by the model, where the highest rank variable is V14. "
   ]
  },
  {
   "cell_type": "code",
   "execution_count": 51,
   "id": "inappropriate-editor",
   "metadata": {},
   "outputs": [
    {
     "data": {
      "text/plain": [
       "Text(0.5, 1.0, 'Feature Importance of XGBoost (threshold)')"
      ]
     },
     "execution_count": 51,
     "metadata": {},
     "output_type": "execute_result"
    },
    {
     "data": {
      "image/png": "[encoded data removed]",
      "text/plain": [
       "<Figure size 720x360 with 1 Axes>"
      ]
     },
     "metadata": {
      "needs_background": "light"
     },
     "output_type": "display_data"
    }
   ],
   "source": [
    "#Store the feature importance of the best model\n",
    "df_feat = pd.DataFrame(data=xgboost_sm_rfe_hyp.feature_importances_, \n",
    "                       index =sel_vars_xgb, columns = ['Score']).sort_values(by='Score')\n",
    "\n",
    "\n",
    "fig, ax = plt.subplots(figsize=(10,5))\n",
    "\n",
    "df_feat.plot.bar(ax=ax)\n",
    "ax.set_xlabel(\"Variables\")\n",
    "ax.set_ylabel(\"Score\")\n",
    "ax.set_title(\"Feature Importance of XGBoost (threshold)\")\n",
    "#df_feat.T.to_csv(\"C:/Users/Milara/Desktop/New Projects/FraudDetection/xgb_feat_importance_v1.csv\", encoding=\"ISO-8859-1\", index= False)"
   ]
  },
  {
   "cell_type": "markdown",
   "id": "numeric-technical",
   "metadata": {},
   "source": [
    "## **Conclusion.**\n",
    "\n",
    "The current notebook presented a walkthrough example to show model performance using monetary costs and improving the results using a resampling techique to deal with imbalanced datasets for a credit card fraud detection. In addition, other concepts were shown such as feature selection, hyperparameter tunning, overfitting the training data, the scalability of the models and feature importance. Some of the techniques presented in this notebook are based on the Robin Teuwens kernel on Optimizing Fraud Cost [1]. "
   ]
  },
  {
   "cell_type": "markdown",
   "id": "provincial-walnut",
   "metadata": {},
   "source": [
    "## **To Try**\n",
    "\n",
    "This notebook is only an example of the techniques to use for showing the model results in terms cost and to deal with imbalanced datatest. Nevertheless, there is still more techniques to try, some of the ideas are listed below:\n",
    "\n",
    "- To apply outlier and correlation removal\n",
    "- Adding more data (the validation split was not used)\n",
    "- Expected value as explained in the book [2]\n",
    "- To use other models\n",
    "- To use other resampling techniques"
   ]
  },
  {
   "cell_type": "markdown",
   "id": "future-commercial",
   "metadata": {},
   "source": [
    "## **References.**\n",
    "\n",
    "+ [1] Robin Teuwens, Precision vs. Recall: Optimizing Fraud Costs, https://www.kaggle.com/robinteuwens/precision-vs-recall-optimizing-fraud-costs?scriptVersionId=19109737\n",
    "+ [2] Provost,F and Fawcett, Tom. (2013). Data science-what you need to know about analytic-thinking and decision-making. USA: O'RELLY.\n",
    "+ [3] Janio Bachmann, Credit Fraud || Dealing with Imbalanced Datasets, https://www.kaggle.com/janiobachmann/credit-fraud-dealing-with-imbalanced-datasets/notebook\n",
    "+ [4] Kubat,M. (2017) Introduction to Machine Learning. USA: Springer.\n",
    "+ [5] Unbalanced Datasets & What To Do About Them, https://medium.com/strands-tech-corner/unbalanced-datasets-what-to-do-144e0552d9cd\n",
    "+ [6] Dealing with Imbalanced Data, https://towardsdatascience.com/methods-for-dealing-with-imbalanced-data-5b761be45a18\n",
    "+ [7] How to fix an Unbalanced Dataset, https://www.kdnuggets.com/2019/05/fix-unbalanced-dataset.html\n",
    "+ [8] 8 Tactics to Combat Imbalanced Classes in Your Machine Learning Dataset, https://machinelearningmastery.com/tactics-to-combat-imbalanced-classes-in-your-machine-learning-dataset/\t\n",
    "+ [9] Occam's razor, https://en.wikipedia.org/wiki/Occam%27s_razor\n",
    "+ [10] How to Use ROC Curves and Precision-Recall Curves for Classification in Python, https://machinelearningmastery.com/roc-curves-and-precision-recall-curves-for-classification-in-python/ \n",
    "+ [11] Plotting Learning Curves, https://scikit-learn.org/stable/auto_examples/model_selection/plot_learning_curve.html#sphx-glr-auto-examples-model-selection-plot-learning-curve-py\n"
   ]
  }
 ],
 "metadata": {
  "interpreter": {
   "hash": "e5c8cc80ae7d05190d8bcf973ebc2eedc7d94d5f1c550d34b9547d9bd3efd5d8"
  },
  "kernelspec": {
   "display_name": "Python 3.9.5 64-bit",
   "name": "python3"
  },
  "language_info": {
   "codemirror_mode": {
    "name": "ipython",
    "version": 3
   },
   "file_extension": ".py",
   "mimetype": "text/x-python",
   "name": "python",
   "nbconvert_exporter": "python",
   "pygments_lexer": "ipython3",
   "version": "3.9.5"
  }
 },
 "nbformat": 4,
 "nbformat_minor": 5
}
